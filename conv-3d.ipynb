{
 "cells": [
  {
   "cell_type": "code",
   "execution_count": 19,
   "id": "bdd91cdf",
   "metadata": {},
   "outputs": [],
   "source": [
    "import tensorflow\n",
    "from tensorflow.keras.models import Sequential\n",
    "from tensorflow.keras.layers import Dense, Flatten, Conv3D, MaxPooling3D, Dropout\n",
    "from tensorflow.keras.utils import to_categorical\n",
    "import h5py\n",
    "import numpy as np\n",
    "import matplotlib.pyplot as plt\n"
   ]
  },
  {
   "cell_type": "markdown",
   "id": "2e5c2834",
   "metadata": {},
   "source": [
    "* We'll work with the Sequential API. It's the easiest way to structure your Keras layers (contrary to the Functional API), but it comes with a cost - you lose flexibility in terms of how data flows through your model, as you literally stack all layers. For this blog post, that doesn't matter, but it may be an idea to inform yourself about the differences between both APIs.\n",
    "##### Imported  layers:\n",
    "- The **Dense** layer represents the densely-connected layers (MLP-like layers) that we will use to classify the very abstract 3D convolutional feature maps into one of the buckets 0-9, for the digits 0-9.\n",
    "- The **Flatten** layer will be used to convert the multidimensional feature map into a one-dimensional array, since only those can be handled by densely-connected layers.\n",
    "- The **Conv3D** layer, which was intuitively discussed above, will be used for performing the convolutional operations.\n",
    "- In between the convolutional layers, we apply three-dimensional max pooling with **MaxPooling3D** in order to down-sample the feature maps (or in plain English: making them smaller, presumably without losing information) which saves precious computational resources."
   ]
  },
  {
   "cell_type": "markdown",
   "id": "45be3687",
   "metadata": {},
   "source": [
    "### Model Configuration"
   ]
  },
  {
   "cell_type": "code",
   "execution_count": 2,
   "id": "bf9be414",
   "metadata": {},
   "outputs": [],
   "source": [
    "# Model Configuration\n",
    "batch_size = 100\n",
    "no_epochs = 30\n",
    "learning_rate = 0.001\n",
    "no_classes = 10\n",
    "validation_split = 0.2\n",
    "verbosity = 1"
   ]
  },
  {
   "cell_type": "markdown",
   "id": "e0deee5f",
   "metadata": {},
   "source": [
    "**Specifically, we configure the model as follows:**\n",
    "\n",
    "* We use a **batch size** of 100 samples. This means that one hundred samples are fed forward through the network each time, generating predictions, computing loss, and optimization. The higher the batch size, the higher the efficiency with which the improvement gradient can be computed, but the more memory is required.\n",
    "* We use **30 epochs.** One epoch, or full iteration, means that all samples are fed forward once, and that the process can start over again. It is possibly to dynamically determine the number of epochs, but for the sake of simplicity we just choose 30.\n",
    "- **The learning rate**, or the aggressiveness with which the optimizer (in our case, the Adam optimizer) will attempt to improve once the gradient is known, is set to 0.001.\n",
    "- We obviously have 10 classes (the digits 0 up to and including 9), so **no_classes** is 10.\n",
    "* Twenty percent or 0.2 of the training data is used as validation data, so this defines our **validation_split**.\n",
    "* Finally, we set **verbosity** to 1, which means that all possible output is output to our screens. This helps in understanding what happens, but slightly slows down the process. Hence, if you're using those models for real, you may wish to turn verbose mode off, but for now, it's going to be useful."
   ]
  },
  {
   "cell_type": "code",
   "execution_count": 8,
   "id": "fc3381b8",
   "metadata": {},
   "outputs": [
    {
     "name": "stdout",
     "output_type": "stream",
     "text": [
      "[1, 2, 3, 4, 5, 6]\n"
     ]
    }
   ],
   "source": [
    "# Adding Helper function\n",
    "\n",
    "# Convert 1D vector into 3D values,\n",
    "def array_to_color(array, cmap=\"Oranges\"):\n",
    "    s_m = plt.cm.ScalarMappable(cmap=cmap)\n",
    "    return s_m.to_rgba(array)[:,:-1]\n",
    "\n",
    "# Reshape data into format that can be handled by conv3D layers\n",
    "\n",
    "def rgb_data_transform(data):\n",
    "    data_t =[]\n",
    "    for i in range(data.shape[0]):\n",
    "        data_t.append(array_to_color(data[i]).reshape(16, 16, 16, 3))\n",
    "    return np.asarray(data_t, dtype=np.float32)\n",
    "\n",
    "myarr = [1, 2, 3, 4, 5, 6]\n",
    "print(myarr[:])"
   ]
  },
  {
   "cell_type": "markdown",
   "id": "85c4e944",
   "metadata": {},
   "source": [
    "**What array_to_color does?**\n",
    "* The imported data will be of one channel only. This function converts the data into RGB format, and hence into three channels. This ensures resemblence with the original 2D scenario.\n",
    "\n",
    "* Next, we use **rgb_data_transform**, which was created by machine learning students Sam Berglin, Zheming Lian and Jiahui Jang at the University of Wisconsin-Madison. Under guidance of professor Sebastian Raschka, whose Mlxtend library we use quite often, they also created a 3D ConvNet for the 3D MNIST dataset, but then using PyTorch instead of Keras.\n",
    "\n",
    "* The function reshapes the data, which per sample comes in a (4096,) shape (16x16x16 pixels = 4096 pixels), so in a one-dimensional array. Their function reshapes the data into three-channeled, four-dimensional 16x16x16x3 format, making use of array_to_color. The Conv3D function can now handle the data."
   ]
  },
  {
   "cell_type": "markdown",
   "id": "4262efb1",
   "metadata": {},
   "source": [
    "## Data preparation\n",
    "We can next import and prepare the data."
   ]
  },
  {
   "cell_type": "code",
   "execution_count": 13,
   "id": "4f9c34f6",
   "metadata": {},
   "outputs": [],
   "source": [
    "# Load the HDF5 file\n",
    "\n",
    "with  h5py.File(\"./full_dataset_vectors.h5\", \"r\") as hf:\n",
    "    \n",
    "    # Split the data into training/test features/targets\n",
    "    X_train = hf[\"X_train\"][:]\n",
    "    targets_train = hf[\"y_train\"][:]\n",
    "    X_test = hf[\"X_test\"][:]\n",
    "    targets_test = hf[\"y_test\"][:]\n",
    "    \n",
    "    # Determine sample shape\n",
    "    sample_shape = (16, 16, 16, 3)\n",
    "    \n",
    "    # Reshape the data into 3D format\n",
    "    X_train = rgb_data_transform(X_train)\n",
    "    X_test = rgb_data_transform(X_test)\n",
    "    \n",
    "    # Convert target vectors to categorical targets\n",
    "    targets_train = to_categorical(targets_train).astype(np.int64)\n",
    "    targets_test = to_categorical(targets_test).astype(np.int64)\n",
    "    "
   ]
  },
  {
   "cell_type": "markdown",
   "id": "d4bb7867",
   "metadata": {},
   "source": [
    "## Model Architecture and Training"
   ]
  },
  {
   "cell_type": "code",
   "execution_count": 20,
   "id": "b83c11ab",
   "metadata": {},
   "outputs": [],
   "source": [
    "# First the architecture\n",
    "\n",
    "## Adding Dropout to reduce overfitting. \n",
    "\n",
    "model = Sequential()\n",
    "model.add(Conv3D(32, kernel_size=(3, 3, 3), activation='relu', kernel_initializer='he_uniform', input_shape=sample_shape))\n",
    "model.add(MaxPooling3D(pool_size=(2,2,2)))\n",
    "model.add(Dropout(0.5))\n",
    "model.add(Conv3D(64, kernel_size=(3, 3, 3), activation='relu', kernel_initializer='he_uniform'))\n",
    "model.add(MaxPooling3D(pool_size=(2,2,2)))\n",
    "model.add(Dropout(0.5))\n",
    "model.add(Flatten())\n",
    "model.add(Dense(256, activation='relu', kernel_initializer='he_uniform'))\n",
    "model.add(Dense(no_classes, activation='softmax'))"
   ]
  },
  {
   "cell_type": "markdown",
   "id": "0f63e3bc",
   "metadata": {},
   "source": [
    "- As discussed, we use the Keras Sequential API with Conv3D, MaxPooling3D, Flatten and Dense layers.\n",
    "\n",
    "- Specifically, we use two three-dimensional convolutional layers with 3x3x3 kernels, ReLU activation functions and hence He uniform init.\n",
    "\n",
    "- 3D max pooling is applied with 2x2x2 pool sizes.\n",
    "\n",
    "- Once the convolutional operations are completed, we Flatten the feature maps and feed the result to a Dense layer which also activates and initializes using the ReLU/He combination.\n",
    "\n",
    "- Finally, we output the data into a Dense layer with no_classes (= 10) neurons and a Softmax activation function. This activation function generates a multiclass probability distribution over all the possible target classes, essentially a vector with probabilities that the sample belongs to that particular class, all values summing to 100% (or, statistically, 1).\n",
    "\n",
    "**Second - the training procedure:"
   ]
  },
  {
   "cell_type": "code",
   "execution_count": 21,
   "id": "eb44b519",
   "metadata": {},
   "outputs": [
    {
     "name": "stdout",
     "output_type": "stream",
     "text": [
      "Epoch 1/30\n",
      "80/80 [==============================] - 62s 768ms/step - loss: 2.5262 - accuracy: 0.1089 - val_loss: 2.2990 - val_accuracy: 0.1220\n",
      "Epoch 2/30\n",
      "80/80 [==============================] - 61s 761ms/step - loss: 2.2711 - accuracy: 0.1471 - val_loss: 2.1846 - val_accuracy: 0.2745\n",
      "Epoch 3/30\n",
      "80/80 [==============================] - 61s 761ms/step - loss: 2.1279 - accuracy: 0.2307 - val_loss: 1.9790 - val_accuracy: 0.3530\n",
      "Epoch 4/30\n",
      "80/80 [==============================] - 61s 759ms/step - loss: 1.9827 - accuracy: 0.2928 - val_loss: 1.8377 - val_accuracy: 0.4085\n",
      "Epoch 5/30\n",
      "80/80 [==============================] - 62s 780ms/step - loss: 1.8477 - accuracy: 0.3470 - val_loss: 1.6980 - val_accuracy: 0.4655\n",
      "Epoch 6/30\n",
      "80/80 [==============================] - 66s 823ms/step - loss: 1.7346 - accuracy: 0.3877 - val_loss: 1.5770 - val_accuracy: 0.5130\n",
      "Epoch 7/30\n",
      "80/80 [==============================] - 62s 774ms/step - loss: 1.6177 - accuracy: 0.4297 - val_loss: 1.4107 - val_accuracy: 0.5390\n",
      "Epoch 8/30\n",
      "80/80 [==============================] - 62s 780ms/step - loss: 1.5481 - accuracy: 0.4505 - val_loss: 1.3779 - val_accuracy: 0.5395\n",
      "Epoch 9/30\n",
      "80/80 [==============================] - 63s 786ms/step - loss: 1.4896 - accuracy: 0.4740 - val_loss: 1.3377 - val_accuracy: 0.5360\n",
      "Epoch 10/30\n",
      "80/80 [==============================] - 64s 804ms/step - loss: 1.4629 - accuracy: 0.4818 - val_loss: 1.3044 - val_accuracy: 0.5585\n",
      "Epoch 11/30\n",
      "80/80 [==============================] - 64s 804ms/step - loss: 1.4284 - accuracy: 0.4922 - val_loss: 1.2787 - val_accuracy: 0.5605\n",
      "Epoch 12/30\n",
      "80/80 [==============================] - 67s 834ms/step - loss: 1.3792 - accuracy: 0.5117 - val_loss: 1.2495 - val_accuracy: 0.5780\n",
      "Epoch 13/30\n",
      "80/80 [==============================] - 66s 820ms/step - loss: 1.3661 - accuracy: 0.5169 - val_loss: 1.2192 - val_accuracy: 0.5965\n",
      "Epoch 14/30\n",
      "80/80 [==============================] - 65s 807ms/step - loss: 1.3267 - accuracy: 0.5249 - val_loss: 1.2036 - val_accuracy: 0.5875\n",
      "Epoch 15/30\n",
      "80/80 [==============================] - 62s 771ms/step - loss: 1.3215 - accuracy: 0.5301 - val_loss: 1.1951 - val_accuracy: 0.6010\n",
      "Epoch 16/30\n",
      "80/80 [==============================] - 61s 762ms/step - loss: 1.2894 - accuracy: 0.5385 - val_loss: 1.1971 - val_accuracy: 0.5920\n",
      "Epoch 17/30\n",
      "80/80 [==============================] - 62s 773ms/step - loss: 1.2697 - accuracy: 0.5475 - val_loss: 1.1550 - val_accuracy: 0.6070\n",
      "Epoch 18/30\n",
      "80/80 [==============================] - 64s 796ms/step - loss: 1.2566 - accuracy: 0.5544 - val_loss: 1.1307 - val_accuracy: 0.6210\n",
      "Epoch 19/30\n",
      "80/80 [==============================] - 64s 804ms/step - loss: 1.2329 - accuracy: 0.5624 - val_loss: 1.1210 - val_accuracy: 0.6185\n",
      "Epoch 20/30\n",
      "80/80 [==============================] - 65s 817ms/step - loss: 1.2147 - accuracy: 0.5726 - val_loss: 1.1131 - val_accuracy: 0.6140\n",
      "Epoch 21/30\n",
      "80/80 [==============================] - 66s 826ms/step - loss: 1.2042 - accuracy: 0.5724 - val_loss: 1.1048 - val_accuracy: 0.6235\n",
      "Epoch 22/30\n",
      "80/80 [==============================] - 66s 822ms/step - loss: 1.1946 - accuracy: 0.5754 - val_loss: 1.0810 - val_accuracy: 0.6405\n",
      "Epoch 23/30\n",
      "80/80 [==============================] - 66s 823ms/step - loss: 1.1650 - accuracy: 0.5821 - val_loss: 1.0726 - val_accuracy: 0.6350\n",
      "Epoch 24/30\n",
      "80/80 [==============================] - 66s 821ms/step - loss: 1.1485 - accuracy: 0.5900 - val_loss: 1.0771 - val_accuracy: 0.6300\n",
      "Epoch 25/30\n",
      "80/80 [==============================] - 65s 806ms/step - loss: 1.1414 - accuracy: 0.5978 - val_loss: 1.0584 - val_accuracy: 0.6480\n",
      "Epoch 26/30\n",
      "80/80 [==============================] - 64s 804ms/step - loss: 1.1281 - accuracy: 0.6004 - val_loss: 1.0481 - val_accuracy: 0.6520\n",
      "Epoch 27/30\n",
      "80/80 [==============================] - 64s 804ms/step - loss: 1.1227 - accuracy: 0.6079 - val_loss: 1.0428 - val_accuracy: 0.6415\n",
      "Epoch 28/30\n",
      "80/80 [==============================] - 65s 811ms/step - loss: 1.1073 - accuracy: 0.6087 - val_loss: 1.0440 - val_accuracy: 0.6465\n",
      "Epoch 29/30\n",
      "80/80 [==============================] - 66s 831ms/step - loss: 1.0897 - accuracy: 0.6140 - val_loss: 1.0228 - val_accuracy: 0.6620\n",
      "Epoch 30/30\n",
      "80/80 [==============================] - 66s 824ms/step - loss: 1.0873 - accuracy: 0.6156 - val_loss: 1.0264 - val_accuracy: 0.6525\n"
     ]
    }
   ],
   "source": [
    "# Compile the model\n",
    "\n",
    "model.compile(loss=tensorflow.keras.losses.categorical_crossentropy, \n",
    "              optimizer=tensorflow.keras.optimizers.Adam(learning_rate=learning_rate), \n",
    "              metrics=['accuracy'])\n",
    "\n",
    "# Fit data to model\n",
    "history = model.fit(X_train, targets_train, \n",
    "                    batch_size=batch_size, \n",
    "                    epochs=no_epochs, \n",
    "                    verbose=verbosity,\n",
    "                   validation_split=validation_split)"
   ]
  },
  {
   "cell_type": "markdown",
   "id": "40bbecb8",
   "metadata": {},
   "source": [
    "We first ```compile``` the model which essentially configures the architecture according to the hyperparameters that we set in the configuration section.\n",
    "\n",
    "Next, we ``fit`` the data to the model, using the other configuration settings set before. Fitting the data starts the training process. The output of this training process is stored in the ``history`` object which we can use for visualization purposes."
   ]
  },
  {
   "cell_type": "markdown",
   "id": "1777abda",
   "metadata": {},
   "source": [
    "## Model Evaluation"
   ]
  },
  {
   "cell_type": "code",
   "execution_count": 23,
   "id": "2b46c9d4",
   "metadata": {},
   "outputs": [
    {
     "name": "stdout",
     "output_type": "stream",
     "text": [
      "Test loss: 1.017402172088623/ Test accuracy: 0.6470000147819519\n"
     ]
    },
    {
     "data": {
      "image/png": "[encoded data removed]",
      "text/plain": [
       "<Figure size 432x288 with 1 Axes>"
      ]
     },
     "metadata": {
      "needs_background": "light"
     },
     "output_type": "display_data"
    }
   ],
   "source": [
    "# Generate generalization metrics\n",
    "score = model.evaluate(X_test, targets_test, verbose=0)\n",
    "print(f'Test loss: {score[0]}/ Test accuracy: {score[1]}')\n",
    "\n",
    "# plot history: Categorical crossendtropy & Accuracy\n",
    "plt.plot(history.history['loss'], label='Categorical Crossentropy (training data)')\n",
    "plt.plot(history.history['val_loss'], label='Categorical crossentropy (validation data)')\n",
    "plt.plot(history.history['accuracy'], label='Accuracy (training data)')\n",
    "plt.plot(history.history['val_accuracy'], label='Accuracy (validation data)')\n",
    "plt.title('Model performance for 3D MNIST keras Conv3D example')\n",
    "plt.ylabel('Loss value')\n",
    "plt.xlabel('No. epoch')\n",
    "plt.legend(loc=\"upper left\")\n",
    "plt.show()"
   ]
  },
  {
   "cell_type": "markdown",
   "id": "69ca6098",
   "metadata": {},
   "source": [
    "## Battling overfitting\n",
    "#### Adding Dropout.\n",
    "\n",
    "- Adding Dropout to the model architecture allows us to 'drop' random elements from the feature maps during training. Although this confuses the model, it disallows it to adapt too much to the training data:"
   ]
  },
  {
   "cell_type": "code",
   "execution_count": null,
   "id": "6f03d28d",
   "metadata": {},
   "outputs": [],
   "source": []
  }
 ],
 "metadata": {
  "kernelspec": {
   "display_name": "Python 3 (ipykernel)",
   "language": "python",
   "name": "python3"
  },
  "language_info": {
   "codemirror_mode": {
    "name": "ipython",
    "version": 3
   },
   "file_extension": ".py",
   "mimetype": "text/x-python",
   "name": "python",
   "nbconvert_exporter": "python",
   "pygments_lexer": "ipython3",
   "version": "3.8.0"
  }
 },
 "nbformat": 4,
 "nbformat_minor": 5
}
