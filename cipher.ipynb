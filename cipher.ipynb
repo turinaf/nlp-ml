{
 "cells": [
  {
   "cell_type": "code",
   "execution_count": 1,
   "id": "28d7b61d",
   "metadata": {},
   "outputs": [],
   "source": [
    "import numpy as np\n",
    "import matplotlib.pyplot as plt\n",
    "import string\n",
    "import random\n",
    "import re\n",
    "import requests\n",
    "import os\n",
    "import textwrap"
   ]
  },
  {
   "cell_type": "code",
   "execution_count": 2,
   "id": "30047df6",
   "metadata": {},
   "outputs": [],
   "source": [
    "### Create substitution cipher\n",
    "\n",
    "# one will act as the key, other as the value\n",
    "\n",
    "letters1 = list(string.ascii_lowercase)\n",
    "letters2 = list(string.ascii_lowercase)\n",
    "\n",
    "true_mapping = {}\n",
    "\n",
    "# shuffle second set of letters\n",
    "random.shuffle(letters2)\n",
    "\n",
    "# Populate map\n",
    "for k, v in zip(letters1, letters2):\n",
    "    true_mapping[k] = v"
   ]
  },
  {
   "cell_type": "code",
   "execution_count": 3,
   "id": "881fedd8",
   "metadata": {},
   "outputs": [
    {
     "data": {
      "text/plain": [
       "{'a': 'k',\n",
       " 'b': 'n',\n",
       " 'c': 'b',\n",
       " 'd': 'u',\n",
       " 'e': 'l',\n",
       " 'f': 'y',\n",
       " 'g': 'm',\n",
       " 'h': 'o',\n",
       " 'i': 'z',\n",
       " 'j': 'a',\n",
       " 'k': 'g',\n",
       " 'l': 'x',\n",
       " 'm': 'c',\n",
       " 'n': 'p',\n",
       " 'o': 'w',\n",
       " 'p': 'v',\n",
       " 'q': 'd',\n",
       " 'r': 'r',\n",
       " 's': 'e',\n",
       " 't': 's',\n",
       " 'u': 'q',\n",
       " 'v': 'j',\n",
       " 'w': 'h',\n",
       " 'x': 'i',\n",
       " 'y': 't',\n",
       " 'z': 'f'}"
      ]
     },
     "execution_count": 3,
     "metadata": {},
     "output_type": "execute_result"
    }
   ],
   "source": [
    "true_mapping"
   ]
  },
  {
   "cell_type": "code",
   "execution_count": 4,
   "id": "fee309a1",
   "metadata": {},
   "outputs": [],
   "source": [
    "### The language model\n",
    "\n",
    "# Initialize Markov matrix\n",
    "M = np.ones((26, 26))\n",
    "\n",
    "# initialize state distributaion\n",
    "pi = np.zeros(26)\n",
    "\n",
    "# a function to update the markov matrix\n",
    "def update_transition(ch1, ch2):\n",
    "    # ord('a') = 97, ord('b') = 98, ...\n",
    "    i = ord(ch1)-97\n",
    "    j = ord(ch2)-97\n",
    "    M[i, j] += 1\n",
    "\n",
    "# function to update the initial state distribution\n",
    "def update_pi(ch):\n",
    "    i = ord(ch)-97\n",
    "    pi[i] += 1\n",
    "    \n",
    "# get the log-probability of a word / token\n",
    "def get_word_prob(word):\n",
    "    i = ord(word[0]) - 97\n",
    "    logp = np.log(pi[i])\n",
    "    \n",
    "    for ch in word[1:]:\n",
    "        j = ord(ch) - 97\n",
    "        logp += np.log(M[i, j]) # update prob\n",
    "        i = j # update j\n",
    "        \n",
    "    return logp\n",
    "\n",
    "# get the probability of a sequence of words\n",
    "def get_sequence_prob(words):\n",
    "    # if input is string, split into an array of tokens\n",
    "    if type(words) == str:\n",
    "        words = words.split()\n",
    "        \n",
    "    logp = 0\n",
    "    for word in words:\n",
    "        logp = logp + get_word_prob(word)\n",
    "    return logp"
   ]
  },
  {
   "cell_type": "code",
   "execution_count": 5,
   "id": "23da6fbb",
   "metadata": {},
   "outputs": [],
   "source": [
    "### Create markov model based on an English dataset\n",
    "# is an edit of https://www.gutenberg.org/ebooks/2701 \n",
    "# (removed the frond and back matter)\n",
    "\n",
    "# download the file\n",
    "# if not os.path.exists('moby_dick.txt'):\n",
    "#     print(\"Downloading moby dick...\")\n",
    "#     r = requests.get('https://lazyprogrammer.me/course_files/moby_dick.txt')\n",
    "# with open('moby_dick.txt', 'w') as f:\n",
    "#     f.write(r.content.decode())"
   ]
  },
  {
   "cell_type": "code",
   "execution_count": 6,
   "id": "5f2e07c0",
   "metadata": {},
   "outputs": [],
   "source": [
    "# for replacing non-alpha characters\n",
    "regex = re.compile('[^a-zA-Z]')\n",
    "\n",
    "# load in words\n",
    "for line in open('moby_dick.txt'):\n",
    "    line = line.rstrip()\n",
    "    \n",
    "    # There are blank line in the file.\n",
    "    if line:\n",
    "        line = regex.sub(' ', line) # replace all non-alpha characters with space\n",
    "        \n",
    "        # split the tokens in the line and lowercase\n",
    "        tokens = line.lower().split()\n",
    "        \n",
    "        for token in tokens:\n",
    "            # update the model\n",
    "            # first letter\n",
    "            ch0 = token[0]\n",
    "            update_pi(ch0)\n",
    "            \n",
    "            # other letters\n",
    "            for ch1 in token[1:]:\n",
    "                update_transition(ch0, ch1)\n",
    "                ch0 = ch1\n",
    "        \n",
    "    # normalize the probabilities\n",
    "    pi /= pi.sum()\n",
    "    M /= M.sum(axis=1, keepdims=True)"
   ]
  },
  {
   "cell_type": "code",
   "execution_count": 7,
   "id": "634912ec",
   "metadata": {},
   "outputs": [],
   "source": [
    "### Encode a message\n",
    "\n",
    "# Random exerpt from Project Gutenberg's\n",
    "# The adventures of Sherlock Holmes, by Arthur conan Dyle\n",
    "# https://www.gutenberg.org/ebooks/1661\n",
    "\n",
    "original_message = '''I then lounged down the street and found, \n",
    "as I expected, the there was a mews in a lane which runs down\n",
    "by one wall of the garden. I lent the ostlers a hand in rubbing\n",
    "down their horses, and received in exchange twopence, a glass of \n",
    "half-and-half, two fills of shag tobacco, and as much information\n",
    "as I could desire about Miss Adler, to say nothing of half a dozen \n",
    "other people in the neighbourhood in whom I was not in the least\n",
    "interested, but whose biographies I was compelled to listen to.\n",
    "'''\n",
    "\n"
   ]
  },
  {
   "cell_type": "code",
   "execution_count": 8,
   "id": "fbf319ce",
   "metadata": {},
   "outputs": [],
   "source": [
    "# Function to encode a message\n",
    "def encode_message(msg):\n",
    "    # downcase\n",
    "    msg = msg.lower()\n",
    "    \n",
    "    # replace non-alpha characters\n",
    "    msg = regex.sub(' ', msg)\n",
    "    \n",
    "    # make the encoded message\n",
    "    coded_msg = []\n",
    "    for ch in msg:\n",
    "        coded_ch = ch # could be just space or punctuation\n",
    "        if ch in true_mapping:\n",
    "            coded_ch = true_mapping[ch]\n",
    "        coded_msg.append(coded_ch)\n",
    "    return ''.join(coded_msg)\n",
    "\n",
    "encoded_message = encode_message(original_message)\n",
    "\n",
    "# A function to decode a message\n",
    "def decode_message(msg, word_map):\n",
    "    decoded_msg = []\n",
    "    for ch in msg:\n",
    "        decoded_ch = ch # could be just space or punctuation\n",
    "        if ch in word_map:\n",
    "            decoded_ch = word_map[ch]\n",
    "        decoded_msg.append(decoded_ch)\n",
    "        \n",
    "    return ''.join(decoded_msg)"
   ]
  },
  {
   "cell_type": "code",
   "execution_count": 9,
   "id": "8d48938c",
   "metadata": {},
   "outputs": [
    {
     "data": {
      "text/plain": [
       "'z solp xwqpmlu uwhp sol esrlls kpu ywqpu   ke z livlbslu  sol solrl hke k clhe zp k xkpl hozbo rqpe uwhp nt wpl hkxx wy sol mkrulp  z xlps sol wesxlre k okpu zp rqnnzpm uwhp solzr owrele  kpu rlblzjlu zp libokpml shwvlpbl  k mxkee wy  okxy kpu okxy  shw yzxxe wy eokm swnkbbw  kpu ke cqbo zpywrckszwp ke z bwqxu ulezrl knwqs czee kuxlr  sw ekt pwsozpm wy okxy k uwflp  wsolr vlwvxl zp sol plzmonwqrowwu zp howc z hke pws zp sol xlkes zpslrleslu  nqs howel nzwmrkvozle z hke bwcvlxxlu sw xzeslp sw  '"
      ]
     },
     "execution_count": 9,
     "metadata": {},
     "output_type": "execute_result"
    }
   ],
   "source": [
    "encoded_message"
   ]
  },
  {
   "cell_type": "code",
   "execution_count": 10,
   "id": "f20d97d3",
   "metadata": {},
   "outputs": [
    {
     "data": {
      "text/plain": [
       "'f ewxv ihdvcxq qhov ewx lerxxe gvq thdvq   gl f xzjxnexq  ewx ewxrx ogl g bxol fv g igvx owfnw rdvl qhov ps hvx ogii ht ewx cgrqxv  f ixve ewx hleixrl g wgvq fv rdppfvc qhov ewxfr whrlxl  gvq rxnxfaxq fv xznwgvcx eohjxvnx  g cigll ht  wgit gvq wgit  eoh tfiil ht lwgc ehpgnnh  gvq gl bdnw fvthrbgefhv gl f nhdiq qxlfrx gphde bfll gqixr  eh lgs vhewfvc ht wgit g qhyxv  hewxr jxhjix fv ewx vxfcwphdrwhhq fv owhb f ogl vhe fv ewx ixgle fvexrxlexq  pde owhlx pfhcrgjwfxl f ogl nhbjxiixq eh iflexv eh  '"
      ]
     },
     "execution_count": 10,
     "metadata": {},
     "output_type": "execute_result"
    }
   ],
   "source": [
    "decoded_message = decode_message(encoded_message, true_mapping)\n",
    "decoded_message"
   ]
  },
  {
   "cell_type": "code",
   "execution_count": 11,
   "id": "acdc2914",
   "metadata": {},
   "outputs": [],
   "source": [
    "### Run an evolutionary algorithm to decode the message\n",
    "\n",
    "# this is our initilaization point\n",
    "dna_pool = []\n",
    "for _ in range(20):\n",
    "    dna = list(string.ascii_lowercase)\n",
    "    random.shuffle(dna)\n",
    "    dna_pool.append(dna)\n",
    "    "
   ]
  },
  {
   "cell_type": "code",
   "execution_count": 12,
   "id": "875cc328",
   "metadata": {},
   "outputs": [],
   "source": [
    "def evolve_offspring(dna_pool, n_children):\n",
    "    # make n_children per offspring\n",
    "    offspring = []\n",
    "    for dna in dna_pool:\n",
    "        for _ in range(n_children):\n",
    "            copy = dna.copy()\n",
    "            j = np.random.randint(len(copy))\n",
    "            k = np.random.randint(len(copy))\n",
    "            \n",
    "            # switch\n",
    "            tmp = copy[j]\n",
    "            copy[j] = copy[k]\n",
    "            copy[k] = tmp\n",
    "            offspring.append(copy)\n",
    "        \n",
    "    return offspring + dna_pool\n",
    "\n",
    "    "
   ]
  },
  {
   "cell_type": "code",
   "execution_count": 13,
   "id": "b6c2faa8",
   "metadata": {},
   "outputs": [
    {
     "name": "stderr",
     "output_type": "stream",
     "text": [
      "C:\\Users\\hp\\AppData\\Local\\Temp/ipykernel_6604/1722455342.py:24: RuntimeWarning: divide by zero encountered in log\n",
      "  logp = np.log(pi[i])\n"
     ]
    },
    {
     "name": "stdout",
     "output_type": "stream",
     "text": [
      "iter:  0 Score:  -inf best so far:  -inf\n",
      "iter:  200 Score:  -inf best so far:  -inf\n",
      "iter:  400 Score:  -inf best so far:  -inf\n",
      "iter:  600 Score:  -inf best so far:  -inf\n",
      "iter:  800 Score:  -inf best so far:  -inf\n"
     ]
    }
   ],
   "source": [
    "num_iters = 1000\n",
    "scores = np.zeros(num_iters)\n",
    "best_dna = None\n",
    "best_map = None\n",
    "best_score = float('-inf')\n",
    "for i in range(num_iters):\n",
    "    if i>0:\n",
    "        # get offspring from the current dna_pool\n",
    "        dna_pool = evolve_offspring(dna_pool, 3)\n",
    "        \n",
    "    # calculate the score for each dna\n",
    "    dna2score = {}\n",
    "    for dna in dna_pool:\n",
    "        # populate map\n",
    "        current_map = {}\n",
    "        for k, v in zip(letters1, dna):\n",
    "            current_map[k] = v\n",
    "        \n",
    "        decoded_message = decode_message(encoded_message, current_map)\n",
    "        score = get_sequence_prob(decoded_message)\n",
    "        \n",
    "        # store it\n",
    "        # Needs to be a string to be a dict key\n",
    "        dna2score[''.join(dna)] = score\n",
    "        \n",
    "        # record the best so far\n",
    "        if score > best_score:\n",
    "            best_dna = dna\n",
    "            best_map = current_map\n",
    "            best_score = score\n",
    "        \n",
    "    # average score for this generation\n",
    "    scores[i] = np.mean(list(dna2score.values()))\n",
    "        \n",
    "    # keep the best 5 dna\n",
    "    # also turn them back into list of single chars\n",
    "    sorted_dna = sorted(dna2score.items(), key=lambda x: x[1], reverse=True)\n",
    "    dna_pool = [list(k) for k, v in sorted_dna[:5]]\n",
    "        \n",
    "    if i % 200 == 0:\n",
    "        print(\"iter: \", i, \"Score: \", scores[i], \"best so far: \", best_score )"
   ]
  },
  {
   "cell_type": "code",
   "execution_count": 14,
   "id": "5f329e75",
   "metadata": {},
   "outputs": [
    {
     "ename": "TypeError",
     "evalue": "argument of type 'NoneType' is not iterable",
     "output_type": "error",
     "traceback": [
      "\u001b[1;31m---------------------------------------------------------------------------\u001b[0m",
      "\u001b[1;31mTypeError\u001b[0m                                 Traceback (most recent call last)",
      "\u001b[1;32m~\\AppData\\Local\\Temp/ipykernel_6604/2531194588.py\u001b[0m in \u001b[0;36m<module>\u001b[1;34m\u001b[0m\n\u001b[0;32m      1\u001b[0m \u001b[1;31m# Use best score\u001b[0m\u001b[1;33m\u001b[0m\u001b[1;33m\u001b[0m\u001b[1;33m\u001b[0m\u001b[0m\n\u001b[1;32m----> 2\u001b[1;33m \u001b[0mdecoded_message\u001b[0m \u001b[1;33m=\u001b[0m \u001b[0mdecode_message\u001b[0m\u001b[1;33m(\u001b[0m\u001b[0mencoded_message\u001b[0m\u001b[1;33m,\u001b[0m \u001b[0mbest_map\u001b[0m\u001b[1;33m)\u001b[0m\u001b[1;33m\u001b[0m\u001b[1;33m\u001b[0m\u001b[0m\n\u001b[0m\u001b[0;32m      3\u001b[0m \u001b[0mprint\u001b[0m\u001b[1;33m(\u001b[0m\u001b[1;34m\"LL of decoded message: \"\u001b[0m\u001b[1;33m,\u001b[0m \u001b[0mget_sequence_prob\u001b[0m\u001b[1;33m(\u001b[0m\u001b[0mdecoded_message\u001b[0m\u001b[1;33m)\u001b[0m\u001b[1;33m)\u001b[0m\u001b[1;33m\u001b[0m\u001b[1;33m\u001b[0m\u001b[0m\n\u001b[0;32m      4\u001b[0m \u001b[0mprint\u001b[0m\u001b[1;33m(\u001b[0m\u001b[1;34m\"LL of true message: \"\u001b[0m\u001b[1;33m,\u001b[0m \u001b[0mget_sequence_prob\u001b[0m\u001b[1;33m(\u001b[0m\u001b[0mregex\u001b[0m\u001b[1;33m.\u001b[0m\u001b[0msub\u001b[0m\u001b[1;33m(\u001b[0m\u001b[0mregex\u001b[0m\u001b[1;33m.\u001b[0m\u001b[0msub\u001b[0m\u001b[1;33m(\u001b[0m\u001b[1;34m' '\u001b[0m\u001b[1;33m,\u001b[0m \u001b[0moriginal_message\u001b[0m\u001b[1;33m.\u001b[0m\u001b[0mlower\u001b[0m\u001b[1;33m(\u001b[0m\u001b[1;33m)\u001b[0m\u001b[1;33m)\u001b[0m\u001b[1;33m)\u001b[0m\u001b[1;33m)\u001b[0m\u001b[1;33m)\u001b[0m\u001b[1;33m\u001b[0m\u001b[1;33m\u001b[0m\u001b[0m\n\u001b[0;32m      5\u001b[0m \u001b[1;33m\u001b[0m\u001b[0m\n",
      "\u001b[1;32m~\\AppData\\Local\\Temp/ipykernel_6604/2044267572.py\u001b[0m in \u001b[0;36mdecode_message\u001b[1;34m(msg, word_map)\u001b[0m\n\u001b[0;32m     23\u001b[0m     \u001b[1;32mfor\u001b[0m \u001b[0mch\u001b[0m \u001b[1;32min\u001b[0m \u001b[0mmsg\u001b[0m\u001b[1;33m:\u001b[0m\u001b[1;33m\u001b[0m\u001b[1;33m\u001b[0m\u001b[0m\n\u001b[0;32m     24\u001b[0m         \u001b[0mdecoded_ch\u001b[0m \u001b[1;33m=\u001b[0m \u001b[0mch\u001b[0m \u001b[1;31m# could be just space or punctuation\u001b[0m\u001b[1;33m\u001b[0m\u001b[1;33m\u001b[0m\u001b[0m\n\u001b[1;32m---> 25\u001b[1;33m         \u001b[1;32mif\u001b[0m \u001b[0mch\u001b[0m \u001b[1;32min\u001b[0m \u001b[0mword_map\u001b[0m\u001b[1;33m:\u001b[0m\u001b[1;33m\u001b[0m\u001b[1;33m\u001b[0m\u001b[0m\n\u001b[0m\u001b[0;32m     26\u001b[0m             \u001b[0mdecoded_ch\u001b[0m \u001b[1;33m=\u001b[0m \u001b[0mword_map\u001b[0m\u001b[1;33m[\u001b[0m\u001b[0mch\u001b[0m\u001b[1;33m]\u001b[0m\u001b[1;33m\u001b[0m\u001b[1;33m\u001b[0m\u001b[0m\n\u001b[0;32m     27\u001b[0m         \u001b[0mdecoded_msg\u001b[0m\u001b[1;33m.\u001b[0m\u001b[0mappend\u001b[0m\u001b[1;33m(\u001b[0m\u001b[0mdecoded_ch\u001b[0m\u001b[1;33m)\u001b[0m\u001b[1;33m\u001b[0m\u001b[1;33m\u001b[0m\u001b[0m\n",
      "\u001b[1;31mTypeError\u001b[0m: argument of type 'NoneType' is not iterable"
     ]
    }
   ],
   "source": [
    "# Use best score\n",
    "decoded_message = decode_message(encoded_message, best_map)\n",
    "print(\"LL of decoded message: \", get_sequence_prob(decoded_message))\n",
    "print(\"LL of true message: \", get_sequence_prob(regex.sub(regex.sub(' ', original_message.lower()))))\n",
    "\n",
    "# Which letters are wrong?\n",
    "for true, v in true_mapping.items():\n",
    "    pred = best_map[v]\n",
    "    if true != pred:\n",
    "        print(\"true: %s, pred: %s\" %(true, pred))\n",
    "        "
   ]
  },
  {
   "cell_type": "code",
   "execution_count": null,
   "id": "52e4d982",
   "metadata": {},
   "outputs": [],
   "source": [
    "# Print the final decoded message\n",
    "print(\"Decoded message: \\n\", textwrap.fill(decoded_message))\n",
    "print(\"\\nOriginal message:\\n\", original_message)"
   ]
  }
 ],
 "metadata": {
  "kernelspec": {
   "display_name": "Python 3 (ipykernel)",
   "language": "python",
   "name": "python3"
  },
  "language_info": {
   "codemirror_mode": {
    "name": "ipython",
    "version": 3
   },
   "file_extension": ".py",
   "mimetype": "text/x-python",
   "name": "python",
   "nbconvert_exporter": "python",
   "pygments_lexer": "ipython3",
   "version": "3.8.0"
  }
 },
 "nbformat": 4,
 "nbformat_minor": 5
}
