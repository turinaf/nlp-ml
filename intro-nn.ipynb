{
 "cells": [
  {
   "cell_type": "code",
   "execution_count": 1,
   "id": "ce506f94",
   "metadata": {},
   "outputs": [],
   "source": [
    "import numpy\n",
    "import scipy.special"
   ]
  },
  {
   "cell_type": "code",
   "execution_count": 4,
   "id": "2403428c",
   "metadata": {},
   "outputs": [],
   "source": [
    "class Neural_Network():\n",
    "    def __init__(self, inputnodes, hiddennodes, outputnodes, learningrate):\n",
    "        self.inodes = inputnodes\n",
    "        self.hnodes = hiddennodes\n",
    "        self.onodes = outputnodes\n",
    "        \n",
    "        print('Input Nodes: ', self.inodes, 'Hidden nodes: ', self.hnodes, 'Output nodes: ', self.onodes)\n",
    "        \n",
    "        # define out matrix\n",
    "        \n",
    "        self.wih = (numpy.random.rand(self.hnodes, self.inodes) - 0.5)\n",
    "        self.who = (numpy.random.rand(self.onodes, self.hnodes) - 0.5)\n",
    "        \n",
    "        print('Matrix 1: \\n', self.wih)\n",
    "        print('Matrix 2: \\n', self.who)\n",
    "        \n",
    "        self.lr = learningrate\n",
    "        \n",
    "        # Activation function\n",
    "        self.activation_function = lambda x: scipy.special.expit(x)\n",
    "        \n",
    "    def train():\n",
    "        pass\n",
    "    \n",
    "    def query():\n",
    "        pass"
   ]
  },
  {
   "cell_type": "code",
   "execution_count": 5,
   "id": "6eefd967",
   "metadata": {},
   "outputs": [
    {
     "name": "stdout",
     "output_type": "stream",
     "text": [
      "Input Nodes:  3 Hidden nodes:  5 Output nodes:  2\n",
      "Matrix 1: \n",
      " [[-0.02822768 -0.07798171 -0.21167006]\n",
      " [-0.40952927 -0.46111085  0.49472333]\n",
      " [-0.19592154 -0.285138    0.42967609]\n",
      " [ 0.32667426  0.09884648  0.20653095]\n",
      " [-0.22111631  0.4036967  -0.29686998]]\n",
      "Matrix 2: \n",
      " [[-0.20347989  0.05771757  0.23720891 -0.30849618  0.48262342]\n",
      " [-0.37122079 -0.25255563 -0.38708885 -0.35284959  0.22440176]]\n"
     ]
    }
   ],
   "source": [
    "n = Neural_Network(inputnodes=3, hiddennodes=5, outputnodes=2, learningrate=0.2)"
   ]
  },
  {
   "cell_type": "code",
   "execution_count": null,
   "id": "c42dfec1",
   "metadata": {},
   "outputs": [],
   "source": []
  }
 ],
 "metadata": {
  "kernelspec": {
   "display_name": "Python 3 (ipykernel)",
   "language": "python",
   "name": "python3"
  },
  "language_info": {
   "codemirror_mode": {
    "name": "ipython",
    "version": 3
   },
   "file_extension": ".py",
   "mimetype": "text/x-python",
   "name": "python",
   "nbconvert_exporter": "python",
   "pygments_lexer": "ipython3",
   "version": "3.8.0"
  }
 },
 "nbformat": 4,
 "nbformat_minor": 5
}
