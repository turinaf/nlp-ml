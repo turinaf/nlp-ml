{
 "cells": [
  {
   "cell_type": "code",
   "execution_count": 3,
   "id": "1017d8b9",
   "metadata": {},
   "outputs": [],
   "source": [
    "import pandas as pd\n",
    "import numpy as np\n",
    "import nltk\n",
    "from nltk import sent_tokenize\n",
    "from sklearn.feature_extraction.text import TfidfVectorizer"
   ]
  },
  {
   "cell_type": "code",
   "execution_count": 4,
   "id": "1a571203",
   "metadata": {},
   "outputs": [
    {
     "data": {
      "text/html": [
       "<div>\n",
       "<style scoped>\n",
       "    .dataframe tbody tr th:only-of-type {\n",
       "        vertical-align: middle;\n",
       "    }\n",
       "\n",
       "    .dataframe tbody tr th {\n",
       "        vertical-align: top;\n",
       "    }\n",
       "\n",
       "    .dataframe thead th {\n",
       "        text-align: right;\n",
       "    }\n",
       "</style>\n",
       "<table border=\"1\" class=\"dataframe\">\n",
       "  <thead>\n",
       "    <tr style=\"text-align: right;\">\n",
       "      <th></th>\n",
       "      <th>text</th>\n",
       "      <th>labels</th>\n",
       "    </tr>\n",
       "  </thead>\n",
       "  <tbody>\n",
       "    <tr>\n",
       "      <th>0</th>\n",
       "      <td>Ad sales boost Time Warner profit\\n\\nQuarterly...</td>\n",
       "      <td>business</td>\n",
       "    </tr>\n",
       "    <tr>\n",
       "      <th>1</th>\n",
       "      <td>Dollar gains on Greenspan speech\\n\\nThe dollar...</td>\n",
       "      <td>business</td>\n",
       "    </tr>\n",
       "    <tr>\n",
       "      <th>2</th>\n",
       "      <td>Yukos unit buyer faces loan claim\\n\\nThe owner...</td>\n",
       "      <td>business</td>\n",
       "    </tr>\n",
       "    <tr>\n",
       "      <th>3</th>\n",
       "      <td>High fuel prices hit BA's profits\\n\\nBritish A...</td>\n",
       "      <td>business</td>\n",
       "    </tr>\n",
       "    <tr>\n",
       "      <th>4</th>\n",
       "      <td>Pernod takeover talk lifts Domecq\\n\\nShares in...</td>\n",
       "      <td>business</td>\n",
       "    </tr>\n",
       "  </tbody>\n",
       "</table>\n",
       "</div>"
      ],
      "text/plain": [
       "                                                text    labels\n",
       "0  Ad sales boost Time Warner profit\\n\\nQuarterly...  business\n",
       "1  Dollar gains on Greenspan speech\\n\\nThe dollar...  business\n",
       "2  Yukos unit buyer faces loan claim\\n\\nThe owner...  business\n",
       "3  High fuel prices hit BA's profits\\n\\nBritish A...  business\n",
       "4  Pernod takeover talk lifts Domecq\\n\\nShares in...  business"
      ]
     },
     "execution_count": 4,
     "metadata": {},
     "output_type": "execute_result"
    }
   ],
   "source": [
    "data = pd.read_csv('bbc_text_cls.csv')\n",
    "data.head()"
   ]
  },
  {
   "cell_type": "code",
   "execution_count": 5,
   "id": "169363c2",
   "metadata": {},
   "outputs": [
    {
     "data": {
      "text/plain": [
       "'Ad sales boost Time Warner profit\\n\\nQuarterly profits at US media giant TimeWarner jumped 76% to $1.13bn (£600m) for the three months to December, from $639m year-earlier.\\n\\nThe firm, which is now one of the biggest investors in Google, benefited from sales of high-speed internet connections and higher advert sales. TimeWarner said fourth quarter sales rose 2% to $11.1bn from $10.9bn. Its profits were buoyed by one-off gains which offset a profit dip at Warner Bros, and less users for AOL.\\n\\nTime Warner said on Friday that it now owns 8% of search-engine Google. But its own internet business, AOL, had has mixed fortunes. It lost 464,000 subscribers in the fourth quarter profits were lower than in the preceding three quarters. However, the company said AOL\\'s underlying profit before exceptional items rose 8% on the back of stronger internet advertising revenues. It hopes to increase subscribers by offering the online service free to TimeWarner internet customers and will try to sign up AOL\\'s existing customers for high-speed broadband. TimeWarner also has to restate 2000 and 2003 results following a probe by the US Securities Exchange Commission (SEC), which is close to concluding.\\n\\nTime Warner\\'s fourth quarter profits were slightly better than analysts\\' expectations. But its film division saw profits slump 27% to $284m, helped by box-office flops Alexander and Catwoman, a sharp contrast to year-earlier, when the third and final film in the Lord of the Rings trilogy boosted results. For the full-year, TimeWarner posted a profit of $3.36bn, up 27% from its 2003 performance, while revenues grew 6.4% to $42.09bn. \"Our financial performance was strong, meeting or exceeding all of our full-year objectives and greatly enhancing our flexibility,\" chairman and chief executive Richard Parsons said. For 2005, TimeWarner is projecting operating earnings growth of around 5%, and also expects higher revenue and wider profit margins.\\n\\nTimeWarner is to restate its accounts as part of efforts to resolve an inquiry into AOL by US market regulators. It has already offered to pay $300m to settle charges, in a deal that is under review by the SEC. The company said it was unable to estimate the amount it needed to set aside for legal reserves, which it previously set at $500m. It intends to adjust the way it accounts for a deal with German music publisher Bertelsmann\\'s purchase of a stake in AOL Europe, which it had reported as advertising revenue. It will now book the sale of its stake in AOL Europe as a loss on the value of that stake.'"
      ]
     },
     "execution_count": 5,
     "metadata": {},
     "output_type": "execute_result"
    }
   ],
   "source": [
    "data['text'][0]"
   ]
  },
  {
   "cell_type": "code",
   "execution_count": 6,
   "id": "10fb4418",
   "metadata": {},
   "outputs": [],
   "source": [
    "sentences = sent_tokenize(data['text'][0])"
   ]
  },
  {
   "cell_type": "code",
   "execution_count": 8,
   "id": "1c1c4e62",
   "metadata": {},
   "outputs": [
    {
     "data": {
      "text/plain": [
       "['Ad sales boost Time Warner profit\\n\\nQuarterly profits at US media giant TimeWarner jumped 76% to $1.13bn (£600m) for the three months to December, from $639m year-earlier.',\n",
       " 'The firm, which is now one of the biggest investors in Google, benefited from sales of high-speed internet connections and higher advert sales.',\n",
       " 'TimeWarner said fourth quarter sales rose 2% to $11.1bn from $10.9bn.']"
      ]
     },
     "execution_count": 8,
     "metadata": {},
     "output_type": "execute_result"
    }
   ],
   "source": [
    "sentences[:3]"
   ]
  },
  {
   "cell_type": "code",
   "execution_count": 9,
   "id": "61146432",
   "metadata": {},
   "outputs": [],
   "source": [
    "tfidf_vectorizer = TfidfVectorizer()\n",
    "vectorized = tfidf_vectorizer.fit_transform(sentences)"
   ]
  },
  {
   "cell_type": "markdown",
   "id": "3664a4c9",
   "metadata": {},
   "source": [
    "**Syntax: of TF-IDF**\n",
    "\n",
    "sklearn.feature_extraction.text.TfidfVectorizer(input)\n",
    "\n",
    "**Parameters:**\n",
    "\n",
    "- **input:** It refers to parameter document passed, it can be a filename, file or content itself.\n",
    "\n",
    "**Attributes:**\n",
    "\n",
    "- **vocabulary_:** It returns a dictionary of terms as keys and values as feature indices.\n",
    "- **idf_:** It returns the inverse document frequency vector of the document passed as a parameter.\n",
    "\n",
    "**Returns:**\n",
    "\n",
    "- **fit_transform():** It returns an array of terms along with tf-idf values.\n",
    "- **get_feature_names():** It returns a list of feature names."
   ]
  },
  {
   "cell_type": "code",
   "execution_count": 11,
   "id": "49177ff9",
   "metadata": {},
   "outputs": [
    {
     "name": "stdout",
     "output_type": "stream",
     "text": [
      "idf values\n",
      "000 : 3.3513752571634776\n",
      "09bn : 3.3513752571634776\n",
      "10 : 3.3513752571634776\n",
      "11 : 3.3513752571634776\n",
      "13bn : 3.3513752571634776\n",
      "1bn : 3.3513752571634776\n",
      "2000 : 3.3513752571634776\n",
      "2003 : 2.9459101490553135\n",
      "2005 : 3.3513752571634776\n",
      "27 : 2.9459101490553135\n",
      "284m : 3.3513752571634776\n",
      "300m : 3.3513752571634776\n",
      "36bn : 3.3513752571634776\n",
      "42 : 3.3513752571634776\n",
      "464 : 3.3513752571634776\n",
      "500m : 3.3513752571634776\n",
      "600m : 3.3513752571634776\n",
      "639m : 3.3513752571634776\n",
      "76 : 3.3513752571634776\n",
      "9bn : 3.3513752571634776\n",
      "accounts : 2.9459101490553135\n",
      "ad : 3.3513752571634776\n",
      "adjust : 3.3513752571634776\n",
      "advert : 3.3513752571634776\n",
      "advertising : 2.9459101490553135\n",
      "alexander : 3.3513752571634776\n",
      "all : 3.3513752571634776\n",
      "already : 3.3513752571634776\n",
      "also : 2.9459101490553135\n",
      "amount : 3.3513752571634776\n",
      "an : 3.3513752571634776\n",
      "analysts : 3.3513752571634776\n",
      "and : 1.965080896043587\n",
      "aol : 1.965080896043587\n",
      "around : 3.3513752571634776\n",
      "as : 2.6582280766035327\n",
      "aside : 3.3513752571634776\n",
      "at : 2.6582280766035327\n",
      "back : 3.3513752571634776\n",
      "before : 3.3513752571634776\n",
      "benefited : 3.3513752571634776\n",
      "bertelsmann : 3.3513752571634776\n",
      "better : 3.3513752571634776\n",
      "biggest : 3.3513752571634776\n",
      "book : 3.3513752571634776\n",
      "boost : 3.3513752571634776\n",
      "boosted : 3.3513752571634776\n",
      "box : 3.3513752571634776\n",
      "broadband : 3.3513752571634776\n",
      "bros : 3.3513752571634776\n",
      "buoyed : 3.3513752571634776\n",
      "business : 3.3513752571634776\n",
      "but : 2.9459101490553135\n",
      "by : 2.09861228866811\n",
      "catwoman : 3.3513752571634776\n",
      "chairman : 3.3513752571634776\n",
      "charges : 3.3513752571634776\n",
      "chief : 3.3513752571634776\n",
      "close : 3.3513752571634776\n",
      "commission : 3.3513752571634776\n",
      "company : 2.9459101490553135\n",
      "concluding : 3.3513752571634776\n",
      "connections : 3.3513752571634776\n",
      "contrast : 3.3513752571634776\n",
      "customers : 3.3513752571634776\n",
      "deal : 2.9459101490553135\n",
      "december : 3.3513752571634776\n",
      "dip : 3.3513752571634776\n",
      "division : 3.3513752571634776\n",
      "earlier : 2.9459101490553135\n",
      "earnings : 3.3513752571634776\n",
      "efforts : 3.3513752571634776\n",
      "engine : 3.3513752571634776\n",
      "enhancing : 3.3513752571634776\n",
      "estimate : 3.3513752571634776\n",
      "europe : 2.9459101490553135\n",
      "exceeding : 3.3513752571634776\n",
      "exceptional : 3.3513752571634776\n",
      "exchange : 3.3513752571634776\n",
      "executive : 3.3513752571634776\n",
      "existing : 3.3513752571634776\n",
      "expectations : 3.3513752571634776\n",
      "expects : 3.3513752571634776\n",
      "film : 3.3513752571634776\n",
      "final : 3.3513752571634776\n",
      "financial : 3.3513752571634776\n",
      "firm : 3.3513752571634776\n",
      "flexibility : 3.3513752571634776\n",
      "flops : 3.3513752571634776\n",
      "following : 3.3513752571634776\n",
      "for : 1.965080896043587\n",
      "fortunes : 3.3513752571634776\n",
      "fourth : 2.6582280766035327\n",
      "free : 3.3513752571634776\n",
      "friday : 3.3513752571634776\n",
      "from : 2.435084525289323\n",
      "full : 2.9459101490553135\n",
      "gains : 3.3513752571634776\n",
      "german : 3.3513752571634776\n",
      "giant : 3.3513752571634776\n",
      "google : 2.9459101490553135\n",
      "greatly : 3.3513752571634776\n",
      "grew : 3.3513752571634776\n",
      "growth : 3.3513752571634776\n",
      "had : 2.9459101490553135\n",
      "has : 2.6582280766035327\n",
      "helped : 3.3513752571634776\n",
      "high : 2.9459101490553135\n",
      "higher : 2.9459101490553135\n",
      "hopes : 3.3513752571634776\n",
      "however : 3.3513752571634776\n",
      "in : 2.09861228866811\n",
      "increase : 3.3513752571634776\n",
      "inquiry : 3.3513752571634776\n",
      "intends : 3.3513752571634776\n",
      "internet : 2.435084525289323\n",
      "into : 3.3513752571634776\n",
      "investors : 3.3513752571634776\n",
      "is : 2.252762968495368\n",
      "it : 1.965080896043587\n",
      "items : 3.3513752571634776\n",
      "its : 2.09861228866811\n",
      "jumped : 3.3513752571634776\n",
      "legal : 3.3513752571634776\n",
      "less : 3.3513752571634776\n",
      "lord : 3.3513752571634776\n",
      "loss : 3.3513752571634776\n",
      "lost : 3.3513752571634776\n",
      "lower : 3.3513752571634776\n",
      "margins : 3.3513752571634776\n",
      "market : 3.3513752571634776\n",
      "media : 3.3513752571634776\n",
      "meeting : 3.3513752571634776\n",
      "mixed : 3.3513752571634776\n",
      "months : 3.3513752571634776\n",
      "music : 3.3513752571634776\n",
      "needed : 3.3513752571634776\n",
      "now : 2.6582280766035327\n",
      "objectives : 3.3513752571634776\n",
      "of : 1.6466271649250523\n",
      "off : 3.3513752571634776\n",
      "offered : 3.3513752571634776\n",
      "offering : 3.3513752571634776\n",
      "office : 3.3513752571634776\n",
      "offset : 3.3513752571634776\n",
      "on : 2.6582280766035327\n",
      "one : 2.9459101490553135\n",
      "online : 3.3513752571634776\n",
      "operating : 3.3513752571634776\n",
      "or : 3.3513752571634776\n",
      "our : 3.3513752571634776\n",
      "own : 3.3513752571634776\n",
      "owns : 3.3513752571634776\n",
      "parsons : 3.3513752571634776\n",
      "part : 3.3513752571634776\n",
      "pay : 3.3513752571634776\n",
      "performance : 2.9459101490553135\n",
      "posted : 3.3513752571634776\n",
      "preceding : 3.3513752571634776\n",
      "previously : 3.3513752571634776\n",
      "probe : 3.3513752571634776\n",
      "profit : 2.252762968495368\n",
      "profits : 2.252762968495368\n",
      "projecting : 3.3513752571634776\n",
      "publisher : 3.3513752571634776\n",
      "purchase : 3.3513752571634776\n",
      "quarter : 2.6582280766035327\n",
      "quarterly : 3.3513752571634776\n",
      "quarters : 3.3513752571634776\n",
      "regulators : 3.3513752571634776\n",
      "reported : 3.3513752571634776\n",
      "reserves : 3.3513752571634776\n",
      "resolve : 3.3513752571634776\n",
      "restate : 2.9459101490553135\n",
      "results : 2.9459101490553135\n",
      "revenue : 2.9459101490553135\n",
      "revenues : 2.9459101490553135\n",
      "review : 3.3513752571634776\n",
      "richard : 3.3513752571634776\n",
      "rings : 3.3513752571634776\n",
      "rose : 2.9459101490553135\n",
      "said : 2.252762968495368\n",
      "sale : 3.3513752571634776\n",
      "sales : 2.6582280766035327\n",
      "saw : 3.3513752571634776\n",
      "search : 3.3513752571634776\n",
      "sec : 2.9459101490553135\n",
      "securities : 3.3513752571634776\n",
      "service : 3.3513752571634776\n",
      "set : 3.3513752571634776\n",
      "settle : 3.3513752571634776\n",
      "sharp : 3.3513752571634776\n",
      "sign : 3.3513752571634776\n",
      "slightly : 3.3513752571634776\n",
      "slump : 3.3513752571634776\n",
      "speed : 2.9459101490553135\n",
      "stake : 2.9459101490553135\n",
      "strong : 3.3513752571634776\n",
      "stronger : 3.3513752571634776\n",
      "subscribers : 2.9459101490553135\n",
      "than : 2.9459101490553135\n",
      "that : 2.6582280766035327\n",
      "the : 1.4795730802618863\n",
      "third : 3.3513752571634776\n",
      "three : 2.9459101490553135\n",
      "time : 2.6582280766035327\n",
      "timewarner : 1.965080896043587\n",
      "to : 1.6466271649250523\n",
      "trilogy : 3.3513752571634776\n",
      "try : 3.3513752571634776\n",
      "unable : 3.3513752571634776\n",
      "under : 3.3513752571634776\n",
      "underlying : 3.3513752571634776\n",
      "up : 2.9459101490553135\n",
      "us : 2.6582280766035327\n",
      "users : 3.3513752571634776\n",
      "value : 3.3513752571634776\n",
      "warner : 2.435084525289323\n",
      "was : 2.9459101490553135\n",
      "way : 3.3513752571634776\n",
      "were : 2.6582280766035327\n",
      "when : 3.3513752571634776\n",
      "which : 2.252762968495368\n",
      "while : 3.3513752571634776\n",
      "wider : 3.3513752571634776\n",
      "will : 2.9459101490553135\n",
      "with : 3.3513752571634776\n",
      "year : 2.435084525289323\n"
     ]
    }
   ],
   "source": [
    "#  Displaying idf values of the words present in the corpus\n",
    "print(\"idf values\")\n",
    "for k, v in zip(tfidf_vectorizer.get_feature_names_out(), tfidf_vectorizer.idf_):\n",
    "    print(k, ':', v)"
   ]
  },
  {
   "cell_type": "code",
   "execution_count": 12,
   "id": "293f16cb",
   "metadata": {},
   "outputs": [
    {
     "name": "stdout",
     "output_type": "stream",
     "text": [
      "Word Indexes: \n",
      "{'ad': 21, 'sales': 183, 'boost': 45, 'time': 205, 'warner': 217, 'profit': 161, 'quarterly': 167, 'profits': 162, 'at': 37, 'us': 214, 'media': 131, 'giant': 99, 'timewarner': 206, 'jumped': 122, '76': 18, 'to': 207, '13bn': 4, '600m': 16, 'for': 90, 'the': 202, 'three': 204, 'months': 134, 'december': 66, 'from': 95, '639m': 17, 'year': 227, 'earlier': 69, 'firm': 86, 'which': 222, 'is': 118, 'now': 137, 'one': 146, 'of': 139, 'biggest': 43, 'investors': 117, 'in': 111, 'google': 100, 'benefited': 40, 'high': 107, 'speed': 195, 'internet': 115, 'connections': 62, 'and': 32, 'higher': 108, 'advert': 23, 'said': 181, 'fourth': 92, 'quarter': 166, 'rose': 180, '11': 3, '1bn': 5, '10': 2, '9bn': 19, 'its': 121, 'were': 220, 'buoyed': 50, 'by': 53, 'off': 140, 'gains': 97, 'offset': 144, 'dip': 67, 'bros': 49, 'less': 124, 'users': 215, 'aol': 33, 'on': 145, 'friday': 94, 'that': 201, 'it': 119, 'owns': 152, 'search': 185, 'engine': 72, 'but': 52, 'own': 151, 'business': 51, 'had': 104, 'has': 105, 'mixed': 133, 'fortunes': 91, 'lost': 127, '464': 14, '000': 0, 'subscribers': 199, 'lower': 128, 'than': 200, 'preceding': 158, 'quarters': 168, 'however': 110, 'company': 60, 'underlying': 212, 'before': 39, 'exceptional': 77, 'items': 120, 'back': 38, 'stronger': 198, 'advertising': 24, 'revenues': 176, 'hopes': 109, 'increase': 112, 'offering': 142, 'online': 147, 'service': 188, 'free': 93, 'customers': 64, 'will': 225, 'try': 209, 'sign': 192, 'up': 213, 'existing': 80, 'broadband': 48, 'also': 28, 'restate': 173, '2000': 6, '2003': 7, 'results': 174, 'following': 89, 'probe': 160, 'securities': 187, 'exchange': 78, 'commission': 59, 'sec': 186, 'close': 58, 'concluding': 61, 'slightly': 193, 'better': 42, 'analysts': 31, 'expectations': 81, 'film': 83, 'division': 68, 'saw': 184, 'slump': 194, '27': 9, '284m': 10, 'helped': 106, 'box': 47, 'office': 143, 'flops': 88, 'alexander': 25, 'catwoman': 54, 'sharp': 191, 'contrast': 63, 'when': 221, 'third': 203, 'final': 84, 'lord': 125, 'rings': 179, 'trilogy': 208, 'boosted': 46, 'full': 96, 'posted': 157, '36bn': 12, 'performance': 156, 'while': 223, 'grew': 102, '42': 13, '09bn': 1, 'our': 150, 'financial': 85, 'was': 218, 'strong': 197, 'meeting': 132, 'or': 149, 'exceeding': 76, 'all': 26, 'objectives': 138, 'greatly': 101, 'enhancing': 73, 'flexibility': 87, 'chairman': 55, 'chief': 57, 'executive': 79, 'richard': 178, 'parsons': 153, '2005': 8, 'projecting': 163, 'operating': 148, 'earnings': 70, 'growth': 103, 'around': 34, 'expects': 82, 'revenue': 175, 'wider': 224, 'margins': 129, 'accounts': 20, 'as': 35, 'part': 154, 'efforts': 71, 'resolve': 172, 'an': 30, 'inquiry': 113, 'into': 116, 'market': 130, 'regulators': 169, 'already': 27, 'offered': 141, 'pay': 155, '300m': 11, 'settle': 190, 'charges': 56, 'deal': 65, 'under': 211, 'review': 177, 'unable': 210, 'estimate': 74, 'amount': 29, 'needed': 136, 'set': 189, 'aside': 36, 'legal': 123, 'reserves': 171, 'previously': 159, '500m': 15, 'intends': 114, 'adjust': 22, 'way': 219, 'with': 226, 'german': 98, 'music': 135, 'publisher': 164, 'bertelsmann': 41, 'purchase': 165, 'stake': 196, 'europe': 75, 'reported': 170, 'book': 44, 'sale': 182, 'loss': 126, 'value': 216}\n",
      "\n",
      "tf-idf value:\n",
      "  (0, 69)\t0.19462932147647177\n",
      "  (0, 227)\t0.16088027974882355\n",
      "  (0, 17)\t0.22141744293319124\n",
      "  (0, 95)\t0.16088027974882355\n",
      "  (0, 66)\t0.22141744293319124\n",
      "  (0, 134)\t0.22141744293319124\n",
      "  (0, 204)\t0.19462932147647177\n",
      "  (0, 202)\t0.09775189673675863\n",
      "  (0, 90)\t0.12982825072447898\n",
      "  (0, 16)\t0.22141744293319124\n",
      "  (0, 4)\t0.22141744293319124\n",
      "  (0, 207)\t0.21757753062282678\n",
      "  (0, 18)\t0.22141744293319124\n",
      "  (0, 122)\t0.22141744293319124\n",
      "  (0, 206)\t0.12982825072447898\n",
      "  (0, 99)\t0.22141744293319124\n",
      "  (0, 131)\t0.22141744293319124\n",
      "  (0, 214)\t0.17562284682883514\n",
      "  (0, 37)\t0.17562284682883514\n",
      "  (0, 162)\t0.14883472537211564\n",
      "  (0, 167)\t0.22141744293319124\n",
      "  (0, 161)\t0.14883472537211564\n",
      "  (0, 217)\t0.16088027974882355\n",
      "  (0, 205)\t0.17562284682883514\n",
      "  (0, 45)\t0.22141744293319124\n",
      "  :\t:\n",
      "  (18, 119)\t0.38077431442225357\n",
      "  (18, 33)\t0.12692477147408454\n",
      "  (18, 111)\t0.13554957746940366\n",
      "  (18, 139)\t0.10635581315350401\n",
      "  (18, 222)\t0.14550618528592763\n",
      "  (18, 202)\t0.095565773129007\n",
      "  (18, 90)\t0.12692477147408454\n",
      "  (18, 207)\t0.10635581315350401\n",
      "  (19, 216)\t0.26380164049211324\n",
      "  (19, 126)\t0.26380164049211324\n",
      "  (19, 182)\t0.26380164049211324\n",
      "  (19, 44)\t0.26380164049211324\n",
      "  (19, 75)\t0.2318856798868016\n",
      "  (19, 196)\t0.4637713597736032\n",
      "  (19, 35)\t0.20924094546300476\n",
      "  (19, 225)\t0.2318856798868016\n",
      "  (19, 119)\t0.15468025043389622\n",
      "  (19, 201)\t0.20924094546300476\n",
      "  (19, 145)\t0.20924094546300476\n",
      "  (19, 33)\t0.15468025043389622\n",
      "  (19, 121)\t0.16519109978037017\n",
      "  (19, 111)\t0.16519109978037017\n",
      "  (19, 139)\t0.25922668400539395\n",
      "  (19, 137)\t0.20924094546300476\n",
      "  (19, 202)\t0.23292754517225076\n",
      "\n",
      "tf-idf values in matrix form\n",
      "[[0.         0.         0.         ... 0.         0.         0.16088028]\n",
      " [0.         0.         0.         ... 0.         0.         0.        ]\n",
      " [0.         0.         0.34868323 ... 0.         0.         0.        ]\n",
      " ...\n",
      " [0.         0.         0.         ... 0.         0.         0.        ]\n",
      " [0.         0.         0.         ... 0.         0.21646566 0.        ]\n",
      " [0.         0.         0.         ... 0.23188568 0.         0.        ]]\n"
     ]
    }
   ],
   "source": [
    "# Displaying tf-idf values along with indexing\n",
    "\n",
    "# Getting indexes:\n",
    "print(\"Word Indexes: \")\n",
    "print(tfidf_vectorizer.vocabulary_)\n",
    "\n",
    "# display tf-idf values\n",
    "print(\"\\ntf-idf value:\")\n",
    "print(vectorized)\n",
    "\n",
    "# In matrix form\n",
    "print(\"\\ntf-idf values in matrix form\")\n",
    "print(vectorized.toarray())"
   ]
  },
  {
   "cell_type": "code",
   "execution_count": 13,
   "id": "580bc0e6",
   "metadata": {},
   "outputs": [
    {
     "name": "stdout",
     "output_type": "stream",
     "text": [
      "number of sentences in article 1:  20\n"
     ]
    }
   ],
   "source": [
    "print(\"number of sentences in article 1: \", len(sentences))"
   ]
  },
  {
   "cell_type": "code",
   "execution_count": 16,
   "id": "9747021c",
   "metadata": {},
   "outputs": [
    {
     "name": "stdout",
     "output_type": "stream",
     "text": [
      "Matrix length of of vectorized:  (20, 228)\n"
     ]
    }
   ],
   "source": [
    "print(\"Matrix length of of vectorized: \", vectorized.shape)"
   ]
  },
  {
   "cell_type": "code",
   "execution_count": 17,
   "id": "2c404134",
   "metadata": {},
   "outputs": [
    {
     "data": {
      "text/plain": [
       "array([[0.        , 0.        , 0.        , ..., 0.        , 0.        ,\n",
       "        0.16088028],\n",
       "       [0.        , 0.        , 0.        , ..., 0.        , 0.        ,\n",
       "        0.        ],\n",
       "       [0.        , 0.        , 0.34868323, ..., 0.        , 0.        ,\n",
       "        0.        ],\n",
       "       ...,\n",
       "       [0.        , 0.        , 0.        , ..., 0.        , 0.        ,\n",
       "        0.        ],\n",
       "       [0.        , 0.        , 0.        , ..., 0.        , 0.21646566,\n",
       "        0.        ],\n",
       "       [0.        , 0.        , 0.        , ..., 0.23188568, 0.        ,\n",
       "        0.        ]])"
      ]
     },
     "execution_count": 17,
     "metadata": {},
     "output_type": "execute_result"
    }
   ],
   "source": [
    "# Changing sparse matrix to array\n",
    "tf_idf_matrix = vectorized.toarray()\n",
    "tf_idf_matrix"
   ]
  },
  {
   "cell_type": "code",
   "execution_count": 24,
   "id": "1f3038a4",
   "metadata": {},
   "outputs": [
    {
     "name": "stdout",
     "output_type": "stream",
     "text": [
      "[0.18903909497280832, 0.21260496978095947, 0.28286938539435885, 0.2188689647214197, 0.2721674144043621, 0.3113061162677085, 0.24650825771974072, 0.2318189200420009, 0.1889910099524704, 0.20905475661019424, 0.2987698867839692, 0.1686288846707722, 0.21230071776873882, 0.19162878226502164, 0.23057458478025905, 0.22440271391448605, 0.23065442914295697, 0.21808890743570952, 0.18816328005751867, 0.23244764664552092]\n"
     ]
    }
   ],
   "source": [
    "# Calculating scores for each sentences from the dense matrix\n",
    "scores = []\n",
    "for row in tf_idf_matrix:\n",
    "    counter = 0\n",
    "    non_zero = []\n",
    "    for value in row:\n",
    "        if value != 0:\n",
    "            counter = counter +1\n",
    "            non_zero.append(value)\n",
    "    score = sum(non_zero)/counter\n",
    "    scores.append(score)\n",
    "\n",
    "print(scores)"
   ]
  },
  {
   "cell_type": "code",
   "execution_count": 25,
   "id": "7e0264fa",
   "metadata": {},
   "outputs": [
    {
     "data": {
      "text/plain": [
       "20"
      ]
     },
     "execution_count": 25,
     "metadata": {},
     "output_type": "execute_result"
    }
   ],
   "source": [
    "len(scores)"
   ]
  },
  {
   "cell_type": "code",
   "execution_count": 57,
   "id": "53dfdf56",
   "metadata": {},
   "outputs": [
    {
     "name": "stdout",
     "output_type": "stream",
     "text": [
      "Summary of Article 1:\n",
      "\n",
      " TimeWarner said fourth quarter sales rose 2% to $11.1bn from $10.9bn.\n",
      "\n",
      " Time Warner said on Friday that it now owns 8% of search-engine Google.\n",
      "\n",
      " But its own internet business, AOL, had has mixed fortunes.\n",
      "\n",
      " It lost 464,000 subscribers in the fourth quarter profits were lower than in the preceding three quarters.\n",
      "\n",
      " Time Warner's fourth quarter profits were slightly better than analysts' expectations.\n"
     ]
    }
   ],
   "source": [
    "# Selecting senteces with score>threshold as the summary of the text\n",
    "avg = sum(scores)/len(scores)\n",
    "threshold = avg*1.04\n",
    "print(\"Summary of Article 1:\")\n",
    "for i in range(len(scores)):\n",
    "    if scores[i]>threshold:\n",
    "        print(\"\\n\", sentences[i])"
   ]
  },
  {
   "cell_type": "code",
   "execution_count": 85,
   "id": "48c67a5c",
   "metadata": {},
   "outputs": [],
   "source": [
    "def summarize(text):\n",
    "    sentences = sent_tokenize(text)\n",
    "    tfidf_vectorizer = TfidfVectorizer()\n",
    "    vectorized = tfidf_vectorizer.fit_transform(sentences)\n",
    "    # Changing sparse matrix to array\n",
    "    tf_idf_matrix = vectorized.toarray()\n",
    "    # Calculating scores for each sentences from the dense matrix\n",
    "    scores = []\n",
    "    for row in tf_idf_matrix:\n",
    "        counter = 0\n",
    "        non_zero = []\n",
    "        for value in row:\n",
    "            if value != 0:\n",
    "                counter = counter +1\n",
    "                non_zero.append(value)\n",
    "        score = sum(non_zero)/counter\n",
    "        scores.append(score)\n",
    "        # Selecting senteces with score>threshold as the summary of the text\n",
    "    avg = sum(scores)/len(scores)\n",
    "    threshold = avg*1.08\n",
    "    summaries = []\n",
    "    for i in range(len(scores)):\n",
    "        if scores[i]>threshold:\n",
    "            # print(\"\\n\", sentences[i])\n",
    "            summaries.append(sentences[i])\n",
    "        \n",
    "    return summaries\n",
    "\n",
    "         "
   ]
  },
  {
   "cell_type": "code",
   "execution_count": 86,
   "id": "6f5fd92e",
   "metadata": {},
   "outputs": [
    {
     "name": "stdout",
     "output_type": "stream",
     "text": [
      "Summary of Article 1\n",
      "\n",
      "TimeWarner said fourth quarter sales rose 2% to $11.1bn from $10.9bn.\n",
      "Time Warner said on Friday that it now owns 8% of search-engine Google.\n",
      "But its own internet business, AOL, had has mixed fortunes.\n",
      "It lost 464,000 subscribers in the fourth quarter profits were lower than in the preceding three quarters.\n",
      "Time Warner's fourth quarter profits were slightly better than analysts' expectations.\n"
     ]
    }
   ],
   "source": [
    "print(\"Summary of Article 1\\n\")\n",
    "summarized = summarize(data['text'][0])\n",
    "for sentence in summarized:\n",
    "    print(sentence, end=\"\\n\")"
   ]
  },
  {
   "cell_type": "code",
   "execution_count": 87,
   "id": "134b6f46",
   "metadata": {},
   "outputs": [
    {
     "name": "stdout",
     "output_type": "stream",
     "text": [
      "Summary of Article 2\n",
      "\n",
      "In late trading in New York, the dollar reached $1.2871 against the euro, from $1.2974 on Thursday.\n",
      "Market concerns about the deficit has hit the greenback in recent months.\n",
      "Worries about the deficit concerns about China do, however, remain.\n",
      "The G7 meeting is thought unlikely to produce any meaningful movement in Chinese policy.\n"
     ]
    }
   ],
   "source": [
    "print(\"Summary of Article 2\\n\")\n",
    "summarized = summarize(data['text'][1])\n",
    "for sentence in summarized:\n",
    "    print(sentence, end=\"\\n\")"
   ]
  },
  {
   "cell_type": "code",
   "execution_count": 88,
   "id": "f24fc328",
   "metadata": {},
   "outputs": [
    {
     "name": "stdout",
     "output_type": "stream",
     "text": [
      "Summary of Sample article\n",
      "\n",
      "Raacheel Ruutoo dubartii calliftuufi gad of deebistudha.\n",
      "Tarkaanfii ishee mara keessatti jaalala Waaqayyoof qabdu dursuun beekamti.\n",
      "Akkasumas, wangeelaa bakka buʼuudhaan namoota hedduuf fakkeenya taateetti.\n",
      "Akkamiin Wiiliyaam Ruutoo waliin walbaran?\n",
      "Barnootashee sadarkaa lammaffaa mana barumsaa dubartootaa Buteeretti xumurte.\n",
      "Achiin booda Yunivarsiiti Keeniyaatatti Sirna Barnootaan (Education) digirii argatte.\n",
      "Yeroo dheeraaf garuu carraa barsiistuu ta’uu hin arganne.\n",
      "Kun ammoo yeroo lamaan isaanii yunivarsitiitti barumsa turanidha.\n",
      "Bu’uurri jireenya isaanii wal qorachuu achitti eegalanidha.\n",
      "Raacheel yeroo sanatti digirii jalqabaashee Sirna Barnootaan barachaa turte.\n",
      "Amma ijjoollee ja’a – durba sadii fi dhiira sadii qabu.\n",
      "Kanaaf, Aadde Raacheel amma amaatii lammii Naayijeeriyaa taateetti.\n",
      "Sochiinshee dubaroota hedduu deegaraa jiraachuu himeera.\n",
      "Sagantaa bishaan qulqulluu dubartootaaf dhiyeessuu irrattis hojjeteetti Aadde Raacheel.\n",
      "Kana hordofe, mootummaan waliin hojechuun sagantaa kanas hundeessite.\n"
     ]
    }
   ],
   "source": [
    "# Afaan Oromo article\n",
    "fp = open('sample_article1.txt', 'r', encoding='utf-8')\n",
    "article = fp.read()\n",
    "print(\"Summary of Sample article\\n\")\n",
    "summarized = summarize(article)\n",
    "for sentence in summarized:\n",
    "    print(sentence, end=\"\\n\")"
   ]
  },
  {
   "cell_type": "code",
   "execution_count": null,
   "id": "f1c2e20c",
   "metadata": {},
   "outputs": [],
   "source": []
  }
 ],
 "metadata": {
  "kernelspec": {
   "display_name": "Python 3 (ipykernel)",
   "language": "python",
   "name": "python3"
  },
  "language_info": {
   "codemirror_mode": {
    "name": "ipython",
    "version": 3
   },
   "file_extension": ".py",
   "mimetype": "text/x-python",
   "name": "python",
   "nbconvert_exporter": "python",
   "pygments_lexer": "ipython3",
   "version": "3.8.0"
  }
 },
 "nbformat": 4,
 "nbformat_minor": 5
}
