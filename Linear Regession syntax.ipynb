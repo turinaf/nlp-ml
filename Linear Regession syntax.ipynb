{
 "cells": [
  {
   "cell_type": "code",
   "execution_count": 2,
   "id": "9d3e9da2",
   "metadata": {},
   "outputs": [],
   "source": [
    "import numpy as np\n",
    "import tensorflow as tf\n",
    "import matplotlib.pyplot as plt\n",
    "\n",
    "from tensorflow.keras.layers import Dense, Input\n",
    "from tensorflow.keras.models import Model\n",
    "from tensorflow.keras.optimizers import Adam"
   ]
  },
  {
   "cell_type": "code",
   "execution_count": 3,
   "id": "57d915b0",
   "metadata": {},
   "outputs": [],
   "source": [
    "# Fitting line\n",
    "N = 100\n",
    "X = np.random.random(N) * 6 - 3\n",
    "y = 0.5 * X - 1 + np.random.randn(N) * 0.5"
   ]
  },
  {
   "cell_type": "code",
   "execution_count": 4,
   "id": "94209546",
   "metadata": {},
   "outputs": [
    {
     "data": {
      "text/plain": [
       "<matplotlib.collections.PathCollection at 0x1f3f27242e0>"
      ]
     },
     "execution_count": 4,
     "metadata": {},
     "output_type": "execute_result"
    },
    {
     "data": {
      "image/png": "[encoded data removed]",
      "text/plain": [
       "<Figure size 432x288 with 1 Axes>"
      ]
     },
     "metadata": {
      "needs_background": "light"
     },
     "output_type": "display_data"
    }
   ],
   "source": [
    "plt.scatter(X, y)"
   ]
  },
  {
   "cell_type": "code",
   "execution_count": 7,
   "id": "566b0d74",
   "metadata": {},
   "outputs": [],
   "source": [
    "# build model\n",
    "i = Input(shape=(1,))\n",
    "x = Dense(1)(i)\n",
    "\n",
    "model = Model(i, x)"
   ]
  },
  {
   "cell_type": "code",
   "execution_count": 8,
   "id": "69f9cfd9",
   "metadata": {},
   "outputs": [
    {
     "name": "stdout",
     "output_type": "stream",
     "text": [
      "Model: \"model_1\"\n",
      "_________________________________________________________________\n",
      "Layer (type)                 Output Shape              Param #   \n",
      "=================================================================\n",
      "input_2 (InputLayer)         [(None, 1)]               0         \n",
      "_________________________________________________________________\n",
      "dense_1 (Dense)              (None, 1)                 2         \n",
      "=================================================================\n",
      "Total params: 2\n",
      "Trainable params: 2\n",
      "Non-trainable params: 0\n",
      "_________________________________________________________________\n"
     ]
    }
   ],
   "source": [
    "model.summary()"
   ]
  },
  {
   "cell_type": "code",
   "execution_count": 9,
   "id": "65261432",
   "metadata": {},
   "outputs": [],
   "source": [
    "model.compile(loss='mse', optimizer=Adam(learning_rate=0.1), \n",
    "              metrics=['mae'])"
   ]
  },
  {
   "cell_type": "code",
   "execution_count": 10,
   "id": "df815aaf",
   "metadata": {},
   "outputs": [
    {
     "name": "stdout",
     "output_type": "stream",
     "text": [
      "Epoch 1/200\n",
      "4/4 [==============================] - 0s 0s/step - loss: 1.7339 - mae: 1.0924\n",
      "Epoch 2/200\n",
      "4/4 [==============================] - 0s 640us/step - loss: 0.4957 - mae: 0.5679\n",
      "Epoch 3/200\n",
      "4/4 [==============================] - 0s 0s/step - loss: 0.3914 - mae: 0.4881\n",
      "Epoch 4/200\n",
      "4/4 [==============================] - 0s 0s/step - loss: 0.4301 - mae: 0.5359\n",
      "Epoch 5/200\n",
      "4/4 [==============================] - 0s 0s/step - loss: 0.3217 - mae: 0.4538\n",
      "Epoch 6/200\n",
      "4/4 [==============================] - 0s 3ms/step - loss: 0.2716 - mae: 0.4083\n",
      "Epoch 7/200\n",
      "4/4 [==============================] - 0s 0s/step - loss: 0.3032 - mae: 0.4328\n",
      "Epoch 8/200\n",
      "4/4 [==============================] - 0s 3ms/step - loss: 0.2754 - mae: 0.4117\n",
      "Epoch 9/200\n",
      "4/4 [==============================] - 0s 0s/step - loss: 0.2285 - mae: 0.3590\n",
      "Epoch 10/200\n",
      "4/4 [==============================] - 0s 0s/step - loss: 0.2434 - mae: 0.3746\n",
      "Epoch 11/200\n",
      "4/4 [==============================] - 0s 0s/step - loss: 0.2692 - mae: 0.3997\n",
      "Epoch 12/200\n",
      "4/4 [==============================] - 0s 0s/step - loss: 0.2584 - mae: 0.3848\n",
      "Epoch 13/200\n",
      "4/4 [==============================] - 0s 0s/step - loss: 0.2442 - mae: 0.3708\n",
      "Epoch 14/200\n",
      "4/4 [==============================] - 0s 0s/step - loss: 0.2362 - mae: 0.3645\n",
      "Epoch 15/200\n",
      "4/4 [==============================] - 0s 4ms/step - loss: 0.2302 - mae: 0.3577\n",
      "Epoch 16/200\n",
      "4/4 [==============================] - 0s 0s/step - loss: 0.2358 - mae: 0.3657\n",
      "Epoch 17/200\n",
      "4/4 [==============================] - 0s 0s/step - loss: 0.2374 - mae: 0.3669\n",
      "Epoch 18/200\n",
      "4/4 [==============================] - 0s 0s/step - loss: 0.2344 - mae: 0.3632\n",
      "Epoch 19/200\n",
      "4/4 [==============================] - 0s 0s/step - loss: 0.2333 - mae: 0.3645\n",
      "Epoch 20/200\n",
      "4/4 [==============================] - 0s 3ms/step - loss: 0.2318 - mae: 0.3619\n",
      "Epoch 21/200\n",
      "4/4 [==============================] - 0s 0s/step - loss: 0.2307 - mae: 0.3588\n",
      "Epoch 22/200\n",
      "4/4 [==============================] - 0s 3ms/step - loss: 0.2321 - mae: 0.3616\n",
      "Epoch 23/200\n",
      "4/4 [==============================] - 0s 0s/step - loss: 0.2352 - mae: 0.3656\n",
      "Epoch 24/200\n",
      "4/4 [==============================] - 0s 0s/step - loss: 0.2334 - mae: 0.3642\n",
      "Epoch 25/200\n",
      "4/4 [==============================] - 0s 0s/step - loss: 0.2406 - mae: 0.3695\n",
      "Epoch 26/200\n",
      "4/4 [==============================] - 0s 0s/step - loss: 0.2330 - mae: 0.3620\n",
      "Epoch 27/200\n",
      "4/4 [==============================] - 0s 3ms/step - loss: 0.2329 - mae: 0.3600\n",
      "Epoch 28/200\n",
      "4/4 [==============================] - 0s 0s/step - loss: 0.2326 - mae: 0.3605\n",
      "Epoch 29/200\n",
      "4/4 [==============================] - 0s 0s/step - loss: 0.2302 - mae: 0.3577\n",
      "Epoch 30/200\n",
      "4/4 [==============================] - 0s 0s/step - loss: 0.2321 - mae: 0.3610\n",
      "Epoch 31/200\n",
      "4/4 [==============================] - 0s 0s/step - loss: 0.2477 - mae: 0.3786\n",
      "Epoch 32/200\n",
      "4/4 [==============================] - 0s 3ms/step - loss: 0.2582 - mae: 0.3929\n",
      "Epoch 33/200\n",
      "4/4 [==============================] - 0s 0s/step - loss: 0.2354 - mae: 0.3663\n",
      "Epoch 34/200\n",
      "4/4 [==============================] - 0s 0s/step - loss: 0.2301 - mae: 0.3592\n",
      "Epoch 35/200\n",
      "4/4 [==============================] - 0s 0s/step - loss: 0.2348 - mae: 0.3625\n",
      "Epoch 36/200\n",
      "4/4 [==============================] - 0s 0s/step - loss: 0.2371 - mae: 0.3601\n",
      "Epoch 37/200\n",
      "4/4 [==============================] - 0s 0s/step - loss: 0.2406 - mae: 0.3662\n",
      "Epoch 38/200\n",
      "4/4 [==============================] - 0s 0s/step - loss: 0.2341 - mae: 0.3633\n",
      "Epoch 39/200\n",
      "4/4 [==============================] - 0s 3ms/step - loss: 0.2320 - mae: 0.3623\n",
      "Epoch 40/200\n",
      "4/4 [==============================] - 0s 0s/step - loss: 0.2331 - mae: 0.3626\n",
      "Epoch 41/200\n",
      "4/4 [==============================] - 0s 0s/step - loss: 0.2396 - mae: 0.3657\n",
      "Epoch 42/200\n",
      "4/4 [==============================] - 0s 0s/step - loss: 0.2388 - mae: 0.3669\n",
      "Epoch 43/200\n",
      "4/4 [==============================] - 0s 0s/step - loss: 0.2359 - mae: 0.3625\n",
      "Epoch 44/200\n",
      "4/4 [==============================] - 0s 3ms/step - loss: 0.2319 - mae: 0.3614\n",
      "Epoch 45/200\n",
      "4/4 [==============================] - 0s 0s/step - loss: 0.2332 - mae: 0.3627\n",
      "Epoch 46/200\n",
      "4/4 [==============================] - 0s 0s/step - loss: 0.2350 - mae: 0.3665\n",
      "Epoch 47/200\n",
      "4/4 [==============================] - 0s 177us/step - loss: 0.2423 - mae: 0.3709\n",
      "Epoch 48/200\n",
      "4/4 [==============================] - 0s 0s/step - loss: 0.2307 - mae: 0.3608\n",
      "Epoch 49/200\n",
      "4/4 [==============================] - 0s 0s/step - loss: 0.2416 - mae: 0.3728\n",
      "Epoch 50/200\n",
      "4/4 [==============================] - 0s 0s/step - loss: 0.2470 - mae: 0.3779\n",
      "Epoch 51/200\n",
      "4/4 [==============================] - 0s 0s/step - loss: 0.2380 - mae: 0.3656\n",
      "Epoch 52/200\n",
      "4/4 [==============================] - 0s 3ms/step - loss: 0.2405 - mae: 0.3652\n",
      "Epoch 53/200\n",
      "4/4 [==============================] - 0s 0s/step - loss: 0.2396 - mae: 0.3651\n",
      "Epoch 54/200\n",
      "4/4 [==============================] - 0s 0s/step - loss: 0.2342 - mae: 0.3617\n",
      "Epoch 55/200\n",
      "4/4 [==============================] - 0s 0s/step - loss: 0.2318 - mae: 0.3613\n",
      "Epoch 56/200\n",
      "4/4 [==============================] - 0s 0s/step - loss: 0.2379 - mae: 0.3665\n",
      "Epoch 57/200\n",
      "4/4 [==============================] - 0s 3ms/step - loss: 0.2345 - mae: 0.3655\n",
      "Epoch 58/200\n",
      "4/4 [==============================] - 0s 0s/step - loss: 0.2333 - mae: 0.3625\n",
      "Epoch 59/200\n",
      "4/4 [==============================] - 0s 0s/step - loss: 0.2309 - mae: 0.3599\n",
      "Epoch 60/200\n",
      "4/4 [==============================] - 0s 0s/step - loss: 0.2386 - mae: 0.3660\n",
      "Epoch 61/200\n",
      "4/4 [==============================] - 0s 0s/step - loss: 0.2412 - mae: 0.3711\n",
      "Epoch 62/200\n",
      "4/4 [==============================] - 0s 3ms/step - loss: 0.2328 - mae: 0.3599\n",
      "Epoch 63/200\n",
      "4/4 [==============================] - 0s 0s/step - loss: 0.2374 - mae: 0.3662\n",
      "Epoch 64/200\n",
      "4/4 [==============================] - 0s 0s/step - loss: 0.2367 - mae: 0.3655\n",
      "Epoch 65/200\n",
      "4/4 [==============================] - 0s 18us/step - loss: 0.2350 - mae: 0.3656\n",
      "Epoch 66/200\n",
      "4/4 [==============================] - 0s 0s/step - loss: 0.2458 - mae: 0.3759\n",
      "Epoch 67/200\n",
      "4/4 [==============================] - 0s 3ms/step - loss: 0.2399 - mae: 0.3628\n",
      "Epoch 68/200\n",
      "4/4 [==============================] - 0s 0s/step - loss: 0.2375 - mae: 0.3618\n",
      "Epoch 69/200\n",
      "4/4 [==============================] - 0s 0s/step - loss: 0.2345 - mae: 0.3605\n",
      "Epoch 70/200\n",
      "4/4 [==============================] - 0s 0s/step - loss: 0.2313 - mae: 0.3591\n",
      "Epoch 71/200\n",
      "4/4 [==============================] - 0s 0s/step - loss: 0.2332 - mae: 0.3596\n",
      "Epoch 72/200\n",
      "4/4 [==============================] - 0s 0s/step - loss: 0.2321 - mae: 0.3607\n",
      "Epoch 73/200\n",
      "4/4 [==============================] - 0s 1ms/step - loss: 0.2344 - mae: 0.3628\n",
      "Epoch 74/200\n",
      "4/4 [==============================] - 0s 0s/step - loss: 0.2340 - mae: 0.3666\n",
      "Epoch 75/200\n",
      "4/4 [==============================] - 0s 0s/step - loss: 0.2511 - mae: 0.3802\n",
      "Epoch 76/200\n",
      "4/4 [==============================] - 0s 0s/step - loss: 0.2336 - mae: 0.3683\n",
      "Epoch 77/200\n",
      "4/4 [==============================] - 0s 0s/step - loss: 0.2631 - mae: 0.3894\n",
      "Epoch 78/200\n",
      "4/4 [==============================] - 0s 0s/step - loss: 0.2373 - mae: 0.3635\n",
      "Epoch 79/200\n",
      "4/4 [==============================] - 0s 0s/step - loss: 0.2558 - mae: 0.3886\n",
      "Epoch 80/200\n",
      "4/4 [==============================] - 0s 0s/step - loss: 0.2742 - mae: 0.4056\n",
      "Epoch 81/200\n",
      "4/4 [==============================] - 0s 0s/step - loss: 0.2558 - mae: 0.3832\n",
      "Epoch 82/200\n",
      "4/4 [==============================] - 0s 0s/step - loss: 0.2362 - mae: 0.3664\n",
      "Epoch 83/200\n",
      "4/4 [==============================] - 0s 3ms/step - loss: 0.2323 - mae: 0.3617\n",
      "Epoch 84/200\n",
      "4/4 [==============================] - 0s 0s/step - loss: 0.2345 - mae: 0.3607\n",
      "Epoch 85/200\n",
      "4/4 [==============================] - 0s 3ms/step - loss: 0.2559 - mae: 0.3845\n",
      "Epoch 86/200\n",
      "4/4 [==============================] - 0s 0s/step - loss: 0.2402 - mae: 0.3675\n",
      "Epoch 87/200\n",
      "4/4 [==============================] - 0s 0s/step - loss: 0.2409 - mae: 0.3710\n",
      "Epoch 88/200\n",
      "4/4 [==============================] - 0s 0s/step - loss: 0.2427 - mae: 0.3696\n",
      "Epoch 89/200\n"
     ]
    },
    {
     "name": "stdout",
     "output_type": "stream",
     "text": [
      "4/4 [==============================] - 0s 0s/step - loss: 0.2326 - mae: 0.3586\n",
      "Epoch 90/200\n",
      "4/4 [==============================] - 0s 3ms/step - loss: 0.2338 - mae: 0.3612\n",
      "Epoch 91/200\n",
      "4/4 [==============================] - 0s 0s/step - loss: 0.2399 - mae: 0.3689\n",
      "Epoch 92/200\n",
      "4/4 [==============================] - 0s 0s/step - loss: 0.2411 - mae: 0.3687\n",
      "Epoch 93/200\n",
      "4/4 [==============================] - 0s 0s/step - loss: 0.2444 - mae: 0.3753\n",
      "Epoch 94/200\n",
      "4/4 [==============================] - 0s 0s/step - loss: 0.2366 - mae: 0.3647\n",
      "Epoch 95/200\n",
      "4/4 [==============================] - 0s 3ms/step - loss: 0.2332 - mae: 0.3620\n",
      "Epoch 96/200\n",
      "4/4 [==============================] - 0s 0s/step - loss: 0.2386 - mae: 0.3693\n",
      "Epoch 97/200\n",
      "4/4 [==============================] - 0s 0s/step - loss: 0.2299 - mae: 0.3592\n",
      "Epoch 98/200\n",
      "4/4 [==============================] - 0s 0s/step - loss: 0.2350 - mae: 0.3652\n",
      "Epoch 99/200\n",
      "4/4 [==============================] - 0s 0s/step - loss: 0.2385 - mae: 0.3679\n",
      "Epoch 100/200\n",
      "4/4 [==============================] - 0s 3ms/step - loss: 0.2490 - mae: 0.3785\n",
      "Epoch 101/200\n",
      "4/4 [==============================] - 0s 0s/step - loss: 0.2343 - mae: 0.3634\n",
      "Epoch 102/200\n",
      "4/4 [==============================] - 0s 3ms/step - loss: 0.2448 - mae: 0.3767\n",
      "Epoch 103/200\n",
      "4/4 [==============================] - 0s 0s/step - loss: 0.2421 - mae: 0.3729\n",
      "Epoch 104/200\n",
      "4/4 [==============================] - 0s 0s/step - loss: 0.2336 - mae: 0.3628\n",
      "Epoch 105/200\n",
      "4/4 [==============================] - 0s 0s/step - loss: 0.2389 - mae: 0.3694\n",
      "Epoch 106/200\n",
      "4/4 [==============================] - 0s 0s/step - loss: 0.2588 - mae: 0.3930\n",
      "Epoch 107/200\n",
      "4/4 [==============================] - 0s 0s/step - loss: 0.2495 - mae: 0.3797\n",
      "Epoch 108/200\n",
      "4/4 [==============================] - 0s 0s/step - loss: 0.2322 - mae: 0.3614\n",
      "Epoch 109/200\n",
      "4/4 [==============================] - 0s 3ms/step - loss: 0.2359 - mae: 0.3648\n",
      "Epoch 110/200\n",
      "4/4 [==============================] - 0s 0s/step - loss: 0.2284 - mae: 0.3570\n",
      "Epoch 111/200\n",
      "4/4 [==============================] - 0s 3ms/step - loss: 0.2492 - mae: 0.3777\n",
      "Epoch 112/200\n",
      "4/4 [==============================] - 0s 0s/step - loss: 0.2690 - mae: 0.4020\n",
      "Epoch 113/200\n",
      "4/4 [==============================] - 0s 0s/step - loss: 0.2443 - mae: 0.3683\n",
      "Epoch 114/200\n",
      "4/4 [==============================] - 0s 0s/step - loss: 0.2508 - mae: 0.3774\n",
      "Epoch 115/200\n",
      "4/4 [==============================] - 0s 0s/step - loss: 0.2350 - mae: 0.3637\n",
      "Epoch 116/200\n",
      "4/4 [==============================] - 0s 3ms/step - loss: 0.2388 - mae: 0.3663\n",
      "Epoch 117/200\n",
      "4/4 [==============================] - 0s 0s/step - loss: 0.2363 - mae: 0.3664\n",
      "Epoch 118/200\n",
      "4/4 [==============================] - 0s 0s/step - loss: 0.2496 - mae: 0.3814\n",
      "Epoch 119/200\n",
      "4/4 [==============================] - 0s 4ms/step - loss: 0.2363 - mae: 0.3688\n",
      "Epoch 120/200\n",
      "4/4 [==============================] - 0s 686us/step - loss: 0.2441 - mae: 0.3760\n",
      "Epoch 121/200\n",
      "4/4 [==============================] - 0s 838us/step - loss: 0.2394 - mae: 0.3698\n",
      "Epoch 122/200\n",
      "4/4 [==============================] - 0s 0s/step - loss: 0.2355 - mae: 0.3670\n",
      "Epoch 123/200\n",
      "4/4 [==============================] - 0s 0s/step - loss: 0.2439 - mae: 0.3746\n",
      "Epoch 124/200\n",
      "4/4 [==============================] - 0s 3ms/step - loss: 0.2300 - mae: 0.3586\n",
      "Epoch 125/200\n",
      "4/4 [==============================] - 0s 0s/step - loss: 0.2397 - mae: 0.3713\n",
      "Epoch 126/200\n",
      "4/4 [==============================] - 0s 0s/step - loss: 0.2479 - mae: 0.3802\n",
      "Epoch 127/200\n",
      "4/4 [==============================] - 0s 0s/step - loss: 0.2403 - mae: 0.3691\n",
      "Epoch 128/200\n",
      "4/4 [==============================] - 0s 0s/step - loss: 0.2316 - mae: 0.3577\n",
      "Epoch 129/200\n",
      "4/4 [==============================] - 0s 3ms/step - loss: 0.2387 - mae: 0.3656\n",
      "Epoch 130/200\n",
      "4/4 [==============================] - 0s 0s/step - loss: 0.2412 - mae: 0.3678\n",
      "Epoch 131/200\n",
      "4/4 [==============================] - 0s 0s/step - loss: 0.2317 - mae: 0.3593\n",
      "Epoch 132/200\n",
      "4/4 [==============================] - 0s 0s/step - loss: 0.2385 - mae: 0.3676\n",
      "Epoch 133/200\n",
      "4/4 [==============================] - 0s 0s/step - loss: 0.2410 - mae: 0.3700\n",
      "Epoch 134/200\n",
      "4/4 [==============================] - 0s 0s/step - loss: 0.2364 - mae: 0.3648\n",
      "Epoch 135/200\n",
      "4/4 [==============================] - 0s 0s/step - loss: 0.2350 - mae: 0.3682\n",
      "Epoch 136/200\n",
      "4/4 [==============================] - 0s 0s/step - loss: 0.2520 - mae: 0.3780\n",
      "Epoch 137/200\n",
      "4/4 [==============================] - 0s 0s/step - loss: 0.2300 - mae: 0.3618\n",
      "Epoch 138/200\n",
      "4/4 [==============================] - 0s 0s/step - loss: 0.2390 - mae: 0.3642\n",
      "Epoch 139/200\n",
      "4/4 [==============================] - 0s 0s/step - loss: 0.2397 - mae: 0.3636\n",
      "Epoch 140/200\n",
      "4/4 [==============================] - 0s 0s/step - loss: 0.2445 - mae: 0.3700\n",
      "Epoch 141/200\n",
      "4/4 [==============================] - 0s 3ms/step - loss: 0.2308 - mae: 0.3620\n",
      "Epoch 142/200\n",
      "4/4 [==============================] - 0s 0s/step - loss: 0.2360 - mae: 0.3642\n",
      "Epoch 143/200\n",
      "4/4 [==============================] - 0s 0s/step - loss: 0.2376 - mae: 0.3635\n",
      "Epoch 144/200\n",
      "4/4 [==============================] - 0s 0s/step - loss: 0.2462 - mae: 0.3766\n",
      "Epoch 145/200\n",
      "4/4 [==============================] - 0s 0s/step - loss: 0.2409 - mae: 0.3716\n",
      "Epoch 146/200\n",
      "4/4 [==============================] - 0s 0s/step - loss: 0.2370 - mae: 0.3664\n",
      "Epoch 147/200\n",
      "4/4 [==============================] - 0s 0s/step - loss: 0.2343 - mae: 0.3664\n",
      "Epoch 148/200\n",
      "4/4 [==============================] - 0s 3ms/step - loss: 0.2312 - mae: 0.3601\n",
      "Epoch 149/200\n",
      "4/4 [==============================] - 0s 0s/step - loss: 0.2312 - mae: 0.3594\n",
      "Epoch 150/200\n",
      "4/4 [==============================] - 0s 3ms/step - loss: 0.2515 - mae: 0.3807\n",
      "Epoch 151/200\n",
      "4/4 [==============================] - 0s 0s/step - loss: 0.2433 - mae: 0.3764\n",
      "Epoch 152/200\n",
      "4/4 [==============================] - 0s 3ms/step - loss: 0.2435 - mae: 0.3753\n",
      "Epoch 153/200\n",
      "4/4 [==============================] - 0s 0s/step - loss: 0.2447 - mae: 0.3761\n",
      "Epoch 154/200\n",
      "4/4 [==============================] - 0s 0s/step - loss: 0.2309 - mae: 0.3602\n",
      "Epoch 155/200\n",
      "4/4 [==============================] - 0s 0s/step - loss: 0.2380 - mae: 0.3639\n",
      "Epoch 156/200\n",
      "4/4 [==============================] - 0s 0s/step - loss: 0.2399 - mae: 0.3664\n",
      "Epoch 157/200\n",
      "4/4 [==============================] - 0s 3ms/step - loss: 0.2328 - mae: 0.3617\n",
      "Epoch 158/200\n",
      "4/4 [==============================] - 0s 0s/step - loss: 0.2423 - mae: 0.3737\n",
      "Epoch 159/200\n",
      "4/4 [==============================] - 0s 0s/step - loss: 0.2644 - mae: 0.3982\n",
      "Epoch 160/200\n",
      "4/4 [==============================] - 0s 0s/step - loss: 0.2437 - mae: 0.3715\n",
      "Epoch 161/200\n",
      "4/4 [==============================] - 0s 0s/step - loss: 0.2386 - mae: 0.3644\n",
      "Epoch 162/200\n",
      "4/4 [==============================] - 0s 3ms/step - loss: 0.2485 - mae: 0.3804\n",
      "Epoch 163/200\n",
      "4/4 [==============================] - 0s 0s/step - loss: 0.2321 - mae: 0.3597\n",
      "Epoch 164/200\n",
      "4/4 [==============================] - 0s 0s/step - loss: 0.2548 - mae: 0.3921\n",
      "Epoch 165/200\n",
      "4/4 [==============================] - 0s 0s/step - loss: 0.2494 - mae: 0.3847\n",
      "Epoch 166/200\n",
      "4/4 [==============================] - 0s 0s/step - loss: 0.2391 - mae: 0.3688\n",
      "Epoch 167/200\n",
      "4/4 [==============================] - 0s 3ms/step - loss: 0.2579 - mae: 0.3893\n",
      "Epoch 168/200\n",
      "4/4 [==============================] - 0s 0s/step - loss: 0.2357 - mae: 0.3669\n",
      "Epoch 169/200\n",
      "4/4 [==============================] - 0s 3ms/step - loss: 0.2513 - mae: 0.3769\n",
      "Epoch 170/200\n",
      "4/4 [==============================] - 0s 0s/step - loss: 0.2762 - mae: 0.4037\n",
      "Epoch 171/200\n",
      "4/4 [==============================] - 0s 0s/step - loss: 0.2339 - mae: 0.3525\n",
      "Epoch 172/200\n",
      "4/4 [==============================] - 0s 4ms/step - loss: 0.2633 - mae: 0.3933\n",
      "Epoch 173/200\n",
      "4/4 [==============================] - 0s 0s/step - loss: 0.2410 - mae: 0.3736\n",
      "Epoch 174/200\n",
      "4/4 [==============================] - 0s 3ms/step - loss: 0.2444 - mae: 0.3773\n",
      "Epoch 175/200\n",
      "4/4 [==============================] - 0s 0s/step - loss: 0.2469 - mae: 0.3725\n",
      "Epoch 176/200\n",
      "4/4 [==============================] - 0s 0s/step - loss: 0.2586 - mae: 0.3872\n",
      "Epoch 177/200\n"
     ]
    },
    {
     "name": "stdout",
     "output_type": "stream",
     "text": [
      "4/4 [==============================] - 0s 0s/step - loss: 0.2600 - mae: 0.3934\n",
      "Epoch 178/200\n",
      "4/4 [==============================] - 0s 0s/step - loss: 0.2327 - mae: 0.3639\n",
      "Epoch 179/200\n",
      "4/4 [==============================] - 0s 3ms/step - loss: 0.2463 - mae: 0.3787\n",
      "Epoch 180/200\n",
      "4/4 [==============================] - 0s 0s/step - loss: 0.2420 - mae: 0.3722\n",
      "Epoch 181/200\n",
      "4/4 [==============================] - 0s 0s/step - loss: 0.2393 - mae: 0.3693\n",
      "Epoch 182/200\n",
      "4/4 [==============================] - 0s 0s/step - loss: 0.2520 - mae: 0.3746\n",
      "Epoch 183/200\n",
      "4/4 [==============================] - 0s 0s/step - loss: 0.2704 - mae: 0.3913\n",
      "Epoch 184/200\n",
      "4/4 [==============================] - 0s 3ms/step - loss: 0.2420 - mae: 0.3663\n",
      "Epoch 185/200\n",
      "4/4 [==============================] - 0s 0s/step - loss: 0.2342 - mae: 0.3660\n",
      "Epoch 186/200\n",
      "4/4 [==============================] - 0s 0s/step - loss: 0.2438 - mae: 0.3746\n",
      "Epoch 187/200\n",
      "4/4 [==============================] - 0s 3ms/step - loss: 0.2364 - mae: 0.3606\n",
      "Epoch 188/200\n",
      "4/4 [==============================] - 0s 0s/step - loss: 0.2348 - mae: 0.3610\n",
      "Epoch 189/200\n",
      "4/4 [==============================] - 0s 0s/step - loss: 0.2376 - mae: 0.3641\n",
      "Epoch 190/200\n",
      "4/4 [==============================] - 0s 0s/step - loss: 0.2390 - mae: 0.3639\n",
      "Epoch 191/200\n",
      "4/4 [==============================] - 0s 0s/step - loss: 0.2346 - mae: 0.3630\n",
      "Epoch 192/200\n",
      "4/4 [==============================] - 0s 3ms/step - loss: 0.2340 - mae: 0.3630\n",
      "Epoch 193/200\n",
      "4/4 [==============================] - 0s 0s/step - loss: 0.2312 - mae: 0.3590\n",
      "Epoch 194/200\n",
      "4/4 [==============================] - 0s 0s/step - loss: 0.2517 - mae: 0.3766\n",
      "Epoch 195/200\n",
      "4/4 [==============================] - 0s 0s/step - loss: 0.2339 - mae: 0.3615\n",
      "Epoch 196/200\n",
      "4/4 [==============================] - 0s 0s/step - loss: 0.2357 - mae: 0.3664\n",
      "Epoch 197/200\n",
      "4/4 [==============================] - 0s 0s/step - loss: 0.2465 - mae: 0.3774\n",
      "Epoch 198/200\n",
      "4/4 [==============================] - 0s 0s/step - loss: 0.2351 - mae: 0.3656\n",
      "Epoch 199/200\n",
      "4/4 [==============================] - 0s 0s/step - loss: 0.2308 - mae: 0.3585\n",
      "Epoch 200/200\n",
      "4/4 [==============================] - 0s 3ms/step - loss: 0.2416 - mae: 0.3644\n"
     ]
    }
   ],
   "source": [
    "r = model.fit(\n",
    "    X.reshape(-1, 1), y,\n",
    "    epochs=200,\n",
    "    batch_size=32,\n",
    ")"
   ]
  },
  {
   "cell_type": "code",
   "execution_count": 12,
   "id": "a7bd9e61",
   "metadata": {},
   "outputs": [
    {
     "data": {
      "text/plain": [
       "<matplotlib.legend.Legend at 0x1f3fb979dc0>"
      ]
     },
     "execution_count": 12,
     "metadata": {},
     "output_type": "execute_result"
    },
    {
     "data": {
      "image/png": "[encoded data removed]",
      "text/plain": [
       "<Figure size 432x288 with 1 Axes>"
      ]
     },
     "metadata": {
      "needs_background": "light"
     },
     "output_type": "display_data"
    }
   ],
   "source": [
    "# Plot loss per iteration\n",
    "plt.plot(r.history['loss'], label='loss')\n",
    "plt.legend()"
   ]
  },
  {
   "cell_type": "code",
   "execution_count": 13,
   "id": "9c8ea6be",
   "metadata": {},
   "outputs": [
    {
     "data": {
      "text/plain": [
       "<matplotlib.legend.Legend at 0x1f3fb9bbe20>"
      ]
     },
     "execution_count": 13,
     "metadata": {},
     "output_type": "execute_result"
    },
    {
     "data": {
      "image/png": "[encoded data removed]",
      "text/plain": [
       "<Figure size 432x288 with 1 Axes>"
      ]
     },
     "metadata": {
      "needs_background": "light"
     },
     "output_type": "display_data"
    }
   ],
   "source": [
    "# plot mae per iteration\n",
    "plt.plot(r.history['mae'], label='mae')\n",
    "plt.legend()"
   ]
  },
  {
   "cell_type": "code",
   "execution_count": 14,
   "id": "f2dac339",
   "metadata": {},
   "outputs": [],
   "source": [
    "# Make predictions\n",
    "Xtest = np.linspace(-3, 3, 20).reshape(-1, 1)\n",
    "ptest = model.predict(Xtest)"
   ]
  },
  {
   "cell_type": "code",
   "execution_count": 15,
   "id": "20f89c7c",
   "metadata": {},
   "outputs": [
    {
     "data": {
      "text/plain": [
       "[<matplotlib.lines.Line2D at 0x1f3fbcdbe20>]"
      ]
     },
     "execution_count": 15,
     "metadata": {},
     "output_type": "execute_result"
    },
    {
     "data": {
      "image/png": "[encoded data removed]",
      "text/plain": [
       "<Figure size 432x288 with 1 Axes>"
      ]
     },
     "metadata": {
      "needs_background": "light"
     },
     "output_type": "display_data"
    }
   ],
   "source": [
    "plt.scatter(X, y)\n",
    "plt.plot(Xtest, ptest)"
   ]
  },
  {
   "cell_type": "code",
   "execution_count": 16,
   "id": "18ba5f24",
   "metadata": {},
   "outputs": [
    {
     "data": {
      "text/plain": [
       "[<keras.engine.input_layer.InputLayer at 0x1f3f292d610>,\n",
       " <keras.layers.core.Dense at 0x1f3f292d100>]"
      ]
     },
     "execution_count": 16,
     "metadata": {},
     "output_type": "execute_result"
    }
   ],
   "source": [
    "# Check the learned parameters\n",
    "model.layers"
   ]
  },
  {
   "cell_type": "code",
   "execution_count": 17,
   "id": "fe2025dd",
   "metadata": {},
   "outputs": [
    {
     "data": {
      "text/plain": [
       "[array([[0.44639695]], dtype=float32), array([-0.90045595], dtype=float32)]"
      ]
     },
     "execution_count": 17,
     "metadata": {},
     "output_type": "execute_result"
    }
   ],
   "source": [
    "model.layers[1].get_weights()"
   ]
  },
  {
   "cell_type": "code",
   "execution_count": null,
   "id": "de8791af",
   "metadata": {},
   "outputs": [],
   "source": []
  }
 ],
 "metadata": {
  "kernelspec": {
   "display_name": "Python 3 (ipykernel)",
   "language": "python",
   "name": "python3"
  },
  "language_info": {
   "codemirror_mode": {
    "name": "ipython",
    "version": 3
   },
   "file_extension": ".py",
   "mimetype": "text/x-python",
   "name": "python",
   "nbconvert_exporter": "python",
   "pygments_lexer": "ipython3",
   "version": "3.8.0"
  }
 },
 "nbformat": 4,
 "nbformat_minor": 5
}
